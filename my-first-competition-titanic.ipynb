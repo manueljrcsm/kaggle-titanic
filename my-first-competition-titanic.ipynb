{
 "cells": [
  {
   "cell_type": "markdown",
   "id": "21ee30e3",
   "metadata": {
    "papermill": {
     "duration": 0.006736,
     "end_time": "2024-02-25T23:35:26.884246",
     "exception": false,
     "start_time": "2024-02-25T23:35:26.877510",
     "status": "completed"
    },
    "tags": []
   },
   "source": [
    "### Imports and project setup"
   ]
  },
  {
   "cell_type": "code",
   "execution_count": 1,
   "id": "28865c12",
   "metadata": {
    "_cell_guid": "b1076dfc-b9ad-4769-8c92-a6c4dae69d19",
    "_uuid": "8f2839f25d086af736a60e9eeb907d3b93b6e0e5",
    "execution": {
     "iopub.execute_input": "2024-02-25T23:35:26.899331Z",
     "iopub.status.busy": "2024-02-25T23:35:26.898892Z",
     "iopub.status.idle": "2024-02-25T23:35:29.501588Z",
     "shell.execute_reply": "2024-02-25T23:35:29.500280Z"
    },
    "papermill": {
     "duration": 2.61387,
     "end_time": "2024-02-25T23:35:29.504625",
     "exception": false,
     "start_time": "2024-02-25T23:35:26.890755",
     "status": "completed"
    },
    "tags": []
   },
   "outputs": [
    {
     "name": "stdout",
     "output_type": "stream",
     "text": [
      "/kaggle/input/titanic/train.csv\n",
      "/kaggle/input/titanic/test.csv\n",
      "/kaggle/input/titanic/gender_submission.csv\n",
      "Setup Complete.\n"
     ]
    }
   ],
   "source": [
    "# This Python 3 environment comes with many helpful analytics libraries installed\n",
    "# It is defined by the kaggle/python Docker image: https://github.com/kaggle/docker-python\n",
    "# For example, here's several helpful packages to load\n",
    "\n",
    "import numpy as np # linear algebra\n",
    "import pandas as pd # data processing, CSV file I/O (e.g. pd.read_csv)\n",
    "from sklearn.impute import SimpleImputer #imputer\n",
    "from sklearn.preprocessing import StandardScaler, OneHotEncoder # for handling categorical columns\n",
    "from sklearn.model_selection import train_test_split # to partition data into train and val\n",
    "from sklearn.compose import make_column_transformer # preprocessing\n",
    "from sklearn.pipeline import make_pipeline,Pipeline\n",
    "\n",
    "# Input data files are available in the read-only \"../input/\" directory\n",
    "# For example, running this (by clicking run or pressing Shift+Enter) will list all files under the input directory\n",
    "\n",
    "import os\n",
    "for dirname, _, filenames in os.walk('/kaggle/input'):\n",
    "    for filename in filenames:\n",
    "        print(os.path.join(dirname, filename))\n",
    "\n",
    "# You can write up to 20GB to the current directory (/kaggle/working/) that gets preserved as output when you create a version using \"Save & Run All\" \n",
    "# You can also write temporary files to /kaggle/temp/, but they won't be saved outside of the current session\n",
    "\n",
    "# Setup plotting\n",
    "import matplotlib.pyplot as plt\n",
    "plt.style.use('seaborn-v0_8-whitegrid')\n",
    "# Set Matplotlib defaults\n",
    "plt.rc('figure', autolayout=True)\n",
    "plt.rc('axes', labelweight='bold', labelsize='large',\n",
    "       titleweight='bold', titlesize=18, titlepad=10)\n",
    "plt.rc('animation', html='html5')\n",
    "\n",
    "print(\"Setup Complete.\")"
   ]
  },
  {
   "cell_type": "markdown",
   "id": "0c2f1688",
   "metadata": {
    "papermill": {
     "duration": 0.006344,
     "end_time": "2024-02-25T23:35:29.517896",
     "exception": false,
     "start_time": "2024-02-25T23:35:29.511552",
     "status": "completed"
    },
    "tags": []
   },
   "source": [
    "### Reading the data"
   ]
  },
  {
   "cell_type": "code",
   "execution_count": 2,
   "id": "e3f54257",
   "metadata": {
    "execution": {
     "iopub.execute_input": "2024-02-25T23:35:29.533620Z",
     "iopub.status.busy": "2024-02-25T23:35:29.532346Z",
     "iopub.status.idle": "2024-02-25T23:35:29.601611Z",
     "shell.execute_reply": "2024-02-25T23:35:29.600365Z"
    },
    "papermill": {
     "duration": 0.079535,
     "end_time": "2024-02-25T23:35:29.603999",
     "exception": false,
     "start_time": "2024-02-25T23:35:29.524464",
     "status": "completed"
    },
    "tags": []
   },
   "outputs": [
    {
     "name": "stdout",
     "output_type": "stream",
     "text": [
      "(891, 10)\n"
     ]
    },
    {
     "data": {
      "text/html": [
       "<div>\n",
       "<style scoped>\n",
       "    .dataframe tbody tr th:only-of-type {\n",
       "        vertical-align: middle;\n",
       "    }\n",
       "\n",
       "    .dataframe tbody tr th {\n",
       "        vertical-align: top;\n",
       "    }\n",
       "\n",
       "    .dataframe thead th {\n",
       "        text-align: right;\n",
       "    }\n",
       "</style>\n",
       "<table border=\"1\" class=\"dataframe\">\n",
       "  <thead>\n",
       "    <tr style=\"text-align: right;\">\n",
       "      <th></th>\n",
       "      <th>Pclass</th>\n",
       "      <th>Name</th>\n",
       "      <th>Sex</th>\n",
       "      <th>Age</th>\n",
       "      <th>SibSp</th>\n",
       "      <th>Parch</th>\n",
       "      <th>Ticket</th>\n",
       "      <th>Fare</th>\n",
       "      <th>Cabin</th>\n",
       "      <th>Embarked</th>\n",
       "    </tr>\n",
       "    <tr>\n",
       "      <th>PassengerId</th>\n",
       "      <th></th>\n",
       "      <th></th>\n",
       "      <th></th>\n",
       "      <th></th>\n",
       "      <th></th>\n",
       "      <th></th>\n",
       "      <th></th>\n",
       "      <th></th>\n",
       "      <th></th>\n",
       "      <th></th>\n",
       "    </tr>\n",
       "  </thead>\n",
       "  <tbody>\n",
       "    <tr>\n",
       "      <th>1</th>\n",
       "      <td>3</td>\n",
       "      <td>Braund, Mr. Owen Harris</td>\n",
       "      <td>male</td>\n",
       "      <td>22.0</td>\n",
       "      <td>1</td>\n",
       "      <td>0</td>\n",
       "      <td>A/5 21171</td>\n",
       "      <td>7.2500</td>\n",
       "      <td>NaN</td>\n",
       "      <td>S</td>\n",
       "    </tr>\n",
       "    <tr>\n",
       "      <th>2</th>\n",
       "      <td>1</td>\n",
       "      <td>Cumings, Mrs. John Bradley (Florence Briggs Th...</td>\n",
       "      <td>female</td>\n",
       "      <td>38.0</td>\n",
       "      <td>1</td>\n",
       "      <td>0</td>\n",
       "      <td>PC 17599</td>\n",
       "      <td>71.2833</td>\n",
       "      <td>C85</td>\n",
       "      <td>C</td>\n",
       "    </tr>\n",
       "    <tr>\n",
       "      <th>3</th>\n",
       "      <td>3</td>\n",
       "      <td>Heikkinen, Miss. Laina</td>\n",
       "      <td>female</td>\n",
       "      <td>26.0</td>\n",
       "      <td>0</td>\n",
       "      <td>0</td>\n",
       "      <td>STON/O2. 3101282</td>\n",
       "      <td>7.9250</td>\n",
       "      <td>NaN</td>\n",
       "      <td>S</td>\n",
       "    </tr>\n",
       "    <tr>\n",
       "      <th>4</th>\n",
       "      <td>1</td>\n",
       "      <td>Futrelle, Mrs. Jacques Heath (Lily May Peel)</td>\n",
       "      <td>female</td>\n",
       "      <td>35.0</td>\n",
       "      <td>1</td>\n",
       "      <td>0</td>\n",
       "      <td>113803</td>\n",
       "      <td>53.1000</td>\n",
       "      <td>C123</td>\n",
       "      <td>S</td>\n",
       "    </tr>\n",
       "    <tr>\n",
       "      <th>5</th>\n",
       "      <td>3</td>\n",
       "      <td>Allen, Mr. William Henry</td>\n",
       "      <td>male</td>\n",
       "      <td>35.0</td>\n",
       "      <td>0</td>\n",
       "      <td>0</td>\n",
       "      <td>373450</td>\n",
       "      <td>8.0500</td>\n",
       "      <td>NaN</td>\n",
       "      <td>S</td>\n",
       "    </tr>\n",
       "  </tbody>\n",
       "</table>\n",
       "</div>"
      ],
      "text/plain": [
       "             Pclass                                               Name  \\\n",
       "PassengerId                                                              \n",
       "1                 3                            Braund, Mr. Owen Harris   \n",
       "2                 1  Cumings, Mrs. John Bradley (Florence Briggs Th...   \n",
       "3                 3                             Heikkinen, Miss. Laina   \n",
       "4                 1       Futrelle, Mrs. Jacques Heath (Lily May Peel)   \n",
       "5                 3                           Allen, Mr. William Henry   \n",
       "\n",
       "                Sex   Age  SibSp  Parch            Ticket     Fare Cabin  \\\n",
       "PassengerId                                                                \n",
       "1              male  22.0      1      0         A/5 21171   7.2500   NaN   \n",
       "2            female  38.0      1      0          PC 17599  71.2833   C85   \n",
       "3            female  26.0      0      0  STON/O2. 3101282   7.9250   NaN   \n",
       "4            female  35.0      1      0            113803  53.1000  C123   \n",
       "5              male  35.0      0      0            373450   8.0500   NaN   \n",
       "\n",
       "            Embarked  \n",
       "PassengerId           \n",
       "1                  S  \n",
       "2                  C  \n",
       "3                  S  \n",
       "4                  S  \n",
       "5                  S  "
      ]
     },
     "execution_count": 2,
     "metadata": {},
     "output_type": "execute_result"
    }
   ],
   "source": [
    "#data_train = pd.read_csv(\"./train.csv\", index_col=0,encoding=\"utf-8\")\n",
    "#data_test = pd.read_csv(\"./test.csv\", index_col=0,encoding=\"utf-8\")\n",
    "data_train = pd.read_csv(\"/kaggle/input/titanic/train.csv\", index_col=0)\n",
    "data_test = pd.read_csv(\"/kaggle/input/titanic/test.csv\", index_col=0)\n",
    "\n",
    "X = data_train.copy()\n",
    "y = X.pop('Survived')\n",
    "\n",
    "print(X.shape)\n",
    "X.head()"
   ]
  },
  {
   "cell_type": "markdown",
   "id": "00aaa084",
   "metadata": {
    "papermill": {
     "duration": 0.006712,
     "end_time": "2024-02-25T23:35:29.617599",
     "exception": false,
     "start_time": "2024-02-25T23:35:29.610887",
     "status": "completed"
    },
    "tags": []
   },
   "source": [
    "### Investigating the Data "
   ]
  },
  {
   "cell_type": "code",
   "execution_count": 3,
   "id": "73bae9e1",
   "metadata": {
    "execution": {
     "iopub.execute_input": "2024-02-25T23:35:29.632996Z",
     "iopub.status.busy": "2024-02-25T23:35:29.632582Z",
     "iopub.status.idle": "2024-02-25T23:35:29.641628Z",
     "shell.execute_reply": "2024-02-25T23:35:29.640266Z"
    },
    "papermill": {
     "duration": 0.01934,
     "end_time": "2024-02-25T23:35:29.643875",
     "exception": false,
     "start_time": "2024-02-25T23:35:29.624535",
     "status": "completed"
    },
    "tags": []
   },
   "outputs": [
    {
     "data": {
      "text/plain": [
       "Survived      int64\n",
       "Pclass        int64\n",
       "Name         object\n",
       "Sex          object\n",
       "Age         float64\n",
       "SibSp         int64\n",
       "Parch         int64\n",
       "Ticket       object\n",
       "Fare        float64\n",
       "Cabin        object\n",
       "Embarked     object\n",
       "dtype: object"
      ]
     },
     "execution_count": 3,
     "metadata": {},
     "output_type": "execute_result"
    }
   ],
   "source": [
    "data_train.dtypes"
   ]
  },
  {
   "cell_type": "code",
   "execution_count": 4,
   "id": "f6f63504",
   "metadata": {
    "execution": {
     "iopub.execute_input": "2024-02-25T23:35:29.660234Z",
     "iopub.status.busy": "2024-02-25T23:35:29.659825Z",
     "iopub.status.idle": "2024-02-25T23:35:29.672703Z",
     "shell.execute_reply": "2024-02-25T23:35:29.671471Z"
    },
    "papermill": {
     "duration": 0.024101,
     "end_time": "2024-02-25T23:35:29.675138",
     "exception": false,
     "start_time": "2024-02-25T23:35:29.651037",
     "status": "completed"
    },
    "tags": []
   },
   "outputs": [
    {
     "data": {
      "text/plain": [
       "Name        891\n",
       "Sex           2\n",
       "Ticket      681\n",
       "Cabin       147\n",
       "Embarked      3\n",
       "dtype: int64"
      ]
     },
     "execution_count": 4,
     "metadata": {},
     "output_type": "execute_result"
    }
   ],
   "source": [
    "data_train.select_dtypes(exclude='number').nunique(axis=0, dropna=True)"
   ]
  },
  {
   "cell_type": "code",
   "execution_count": 5,
   "id": "eba2782c",
   "metadata": {
    "execution": {
     "iopub.execute_input": "2024-02-25T23:35:29.691770Z",
     "iopub.status.busy": "2024-02-25T23:35:29.691381Z",
     "iopub.status.idle": "2024-02-25T23:35:29.702493Z",
     "shell.execute_reply": "2024-02-25T23:35:29.701352Z"
    },
    "papermill": {
     "duration": 0.02224,
     "end_time": "2024-02-25T23:35:29.704876",
     "exception": false,
     "start_time": "2024-02-25T23:35:29.682636",
     "status": "completed"
    },
    "tags": []
   },
   "outputs": [
    {
     "data": {
      "text/plain": [
       "Name        418\n",
       "Sex           2\n",
       "Ticket      363\n",
       "Cabin        77\n",
       "Embarked      3\n",
       "dtype: int64"
      ]
     },
     "execution_count": 5,
     "metadata": {},
     "output_type": "execute_result"
    }
   ],
   "source": [
    "data_test.select_dtypes(exclude='number').nunique(axis=0, dropna=False)"
   ]
  },
  {
   "cell_type": "markdown",
   "id": "7c0d48ca",
   "metadata": {
    "papermill": {
     "duration": 0.007259,
     "end_time": "2024-02-25T23:35:29.720066",
     "exception": false,
     "start_time": "2024-02-25T23:35:29.712807",
     "status": "completed"
    },
    "tags": []
   },
   "source": [
    "### Preprocessing the data"
   ]
  },
  {
   "cell_type": "code",
   "execution_count": 6,
   "id": "6492d02c",
   "metadata": {
    "execution": {
     "iopub.execute_input": "2024-02-25T23:35:29.737501Z",
     "iopub.status.busy": "2024-02-25T23:35:29.736700Z",
     "iopub.status.idle": "2024-02-25T23:35:29.862515Z",
     "shell.execute_reply": "2024-02-25T23:35:29.860949Z"
    },
    "papermill": {
     "duration": 0.137811,
     "end_time": "2024-02-25T23:35:29.865526",
     "exception": false,
     "start_time": "2024-02-25T23:35:29.727715",
     "status": "completed"
    },
    "tags": []
   },
   "outputs": [
    {
     "name": "stdout",
     "output_type": "stream",
     "text": [
      "[11]\n"
     ]
    }
   ],
   "source": [
    "features_num = [col for col in X.columns if X[col].dtype in ['int64','float64']]\n",
    "    # automatically add numerical columns here\n",
    "assert features_num == [\"Pclass\", \"Age\", \"SibSp\", \"Parch\",\"Fare\"]\n",
    "\n",
    "features_cat = [col for col in X.columns if X[col].dtype == 'object' and \n",
    "                                                X[col].nunique() <= 10\n",
    "]   # manually add catgorical columns here or automate it  \n",
    "assert features_cat == ['Sex', 'Embarked']\n",
    "\n",
    "transformer_num = make_pipeline(\n",
    "    SimpleImputer(strategy=\"constant\"), # there are a few missing values\n",
    "    StandardScaler(),\n",
    ")\n",
    "transformer_cat = make_pipeline(\n",
    "    SimpleImputer(strategy=\"constant\"),\n",
    "    OneHotEncoder(handle_unknown='ignore'),\n",
    ")\n",
    "\n",
    "preprocessor = make_column_transformer(\n",
    "    (transformer_num, features_num),\n",
    "    (transformer_cat, features_cat),\n",
    ")\n",
    "\n",
    "# Create the train/valid split\n",
    "X_train, X_valid, y_train, y_valid =  \\\n",
    "    train_test_split(X, y, stratify=y, train_size = 0.8, random_state=3, )\n",
    "X_train = preprocessor.fit_transform(X_train)\n",
    "X_valid = preprocessor.transform(X_valid)\n",
    "\n",
    "input_shape = [X_train.shape[1]]\n",
    "print(input_shape)"
   ]
  },
  {
   "cell_type": "markdown",
   "id": "6ad0f932",
   "metadata": {
    "papermill": {
     "duration": 0.008514,
     "end_time": "2024-02-25T23:35:29.882273",
     "exception": false,
     "start_time": "2024-02-25T23:35:29.873759",
     "status": "completed"
    },
    "tags": []
   },
   "source": [
    "### Setting up the neural network"
   ]
  },
  {
   "cell_type": "code",
   "execution_count": 7,
   "id": "e5205dcc",
   "metadata": {
    "execution": {
     "iopub.execute_input": "2024-02-25T23:35:29.900303Z",
     "iopub.status.busy": "2024-02-25T23:35:29.899878Z",
     "iopub.status.idle": "2024-02-25T23:35:45.458657Z",
     "shell.execute_reply": "2024-02-25T23:35:45.457510Z"
    },
    "papermill": {
     "duration": 15.571199,
     "end_time": "2024-02-25T23:35:45.461583",
     "exception": false,
     "start_time": "2024-02-25T23:35:29.890384",
     "status": "completed"
    },
    "tags": []
   },
   "outputs": [
    {
     "name": "stderr",
     "output_type": "stream",
     "text": [
      "2024-02-25 23:35:32.196758: E external/local_xla/xla/stream_executor/cuda/cuda_dnn.cc:9261] Unable to register cuDNN factory: Attempting to register factory for plugin cuDNN when one has already been registered\n",
      "2024-02-25 23:35:32.196942: E external/local_xla/xla/stream_executor/cuda/cuda_fft.cc:607] Unable to register cuFFT factory: Attempting to register factory for plugin cuFFT when one has already been registered\n",
      "2024-02-25 23:35:32.370935: E external/local_xla/xla/stream_executor/cuda/cuda_blas.cc:1515] Unable to register cuBLAS factory: Attempting to register factory for plugin cuBLAS when one has already been registered\n"
     ]
    }
   ],
   "source": [
    "# neural network definition\n",
    "from tensorflow import keras\n",
    "from tensorflow.keras import layers\n",
    "\n",
    "model = keras.Sequential([\n",
    "    # layers.Input(shape=(None,input_shape)),\n",
    "    layers.BatchNormalization(input_shape=input_shape),\n",
    "    \n",
    "    layers.Dense(32, activation='relu'),\n",
    "    layers.BatchNormalization(),\n",
    "    layers.Dropout(0.3),\n",
    "    \n",
    "    layers.Dense(32, activation='relu'),\n",
    "    layers.BatchNormalization(),\n",
    "    layers.Dropout(0.3),\n",
    "    \n",
    "    layers.Dense(1, activation='sigmoid'),\n",
    "])"
   ]
  },
  {
   "cell_type": "code",
   "execution_count": 8,
   "id": "a4418824",
   "metadata": {
    "execution": {
     "iopub.execute_input": "2024-02-25T23:35:45.480518Z",
     "iopub.status.busy": "2024-02-25T23:35:45.480056Z",
     "iopub.status.idle": "2024-02-25T23:35:45.503812Z",
     "shell.execute_reply": "2024-02-25T23:35:45.502811Z"
    },
    "papermill": {
     "duration": 0.0362,
     "end_time": "2024-02-25T23:35:45.506548",
     "exception": false,
     "start_time": "2024-02-25T23:35:45.470348",
     "status": "completed"
    },
    "tags": []
   },
   "outputs": [],
   "source": [
    "# compiling\n",
    "model.compile(\n",
    "    optimizer='adam',\n",
    "    loss='binary_crossentropy',\n",
    "    metrics=['binary_accuracy'],\n",
    ")"
   ]
  },
  {
   "cell_type": "markdown",
   "id": "4ff0aed9",
   "metadata": {
    "papermill": {
     "duration": 0.007425,
     "end_time": "2024-02-25T23:35:45.522811",
     "exception": false,
     "start_time": "2024-02-25T23:35:45.515386",
     "status": "completed"
    },
    "tags": []
   },
   "source": [
    "### Learning the train set and validating"
   ]
  },
  {
   "cell_type": "code",
   "execution_count": 9,
   "id": "4e5f4f11",
   "metadata": {
    "execution": {
     "iopub.execute_input": "2024-02-25T23:35:45.540772Z",
     "iopub.status.busy": "2024-02-25T23:35:45.540372Z",
     "iopub.status.idle": "2024-02-25T23:35:53.594477Z",
     "shell.execute_reply": "2024-02-25T23:35:53.593268Z"
    },
    "papermill": {
     "duration": 8.066311,
     "end_time": "2024-02-25T23:35:53.597351",
     "exception": false,
     "start_time": "2024-02-25T23:35:45.531040",
     "status": "completed"
    },
    "tags": []
   },
   "outputs": [
    {
     "name": "stdout",
     "output_type": "stream",
     "text": [
      "Epoch 1/200\n",
      "23/23 [==============================] - 2s 17ms/step - loss: 0.7699 - binary_accuracy: 0.5772 - val_loss: 0.6184 - val_binary_accuracy: 0.7598\n",
      "Epoch 2/200\n",
      "23/23 [==============================] - 0s 5ms/step - loss: 0.6239 - binary_accuracy: 0.6784 - val_loss: 0.5863 - val_binary_accuracy: 0.7877\n",
      "Epoch 3/200\n",
      "23/23 [==============================] - 0s 5ms/step - loss: 0.6068 - binary_accuracy: 0.7219 - val_loss: 0.5572 - val_binary_accuracy: 0.7877\n",
      "Epoch 4/200\n",
      "23/23 [==============================] - 0s 5ms/step - loss: 0.5802 - binary_accuracy: 0.7402 - val_loss: 0.5323 - val_binary_accuracy: 0.8212\n",
      "Epoch 5/200\n",
      "23/23 [==============================] - 0s 4ms/step - loss: 0.5379 - binary_accuracy: 0.7626 - val_loss: 0.5095 - val_binary_accuracy: 0.8212\n",
      "Epoch 6/200\n",
      "23/23 [==============================] - 0s 4ms/step - loss: 0.5203 - binary_accuracy: 0.7739 - val_loss: 0.4823 - val_binary_accuracy: 0.8212\n",
      "Epoch 7/200\n",
      "23/23 [==============================] - 0s 4ms/step - loss: 0.5598 - binary_accuracy: 0.7444 - val_loss: 0.4670 - val_binary_accuracy: 0.8324\n",
      "Epoch 8/200\n",
      "23/23 [==============================] - 0s 4ms/step - loss: 0.5128 - binary_accuracy: 0.7739 - val_loss: 0.4524 - val_binary_accuracy: 0.8492\n",
      "Epoch 9/200\n",
      "23/23 [==============================] - 0s 5ms/step - loss: 0.5464 - binary_accuracy: 0.7402 - val_loss: 0.4366 - val_binary_accuracy: 0.8436\n",
      "Epoch 10/200\n",
      "23/23 [==============================] - 0s 4ms/step - loss: 0.5169 - binary_accuracy: 0.7654 - val_loss: 0.4276 - val_binary_accuracy: 0.8492\n",
      "Epoch 11/200\n",
      "23/23 [==============================] - 0s 5ms/step - loss: 0.5109 - binary_accuracy: 0.7654 - val_loss: 0.4176 - val_binary_accuracy: 0.8492\n",
      "Epoch 12/200\n",
      "23/23 [==============================] - 0s 4ms/step - loss: 0.5112 - binary_accuracy: 0.7823 - val_loss: 0.4100 - val_binary_accuracy: 0.8547\n",
      "Epoch 13/200\n",
      "23/23 [==============================] - 0s 4ms/step - loss: 0.5026 - binary_accuracy: 0.7612 - val_loss: 0.4013 - val_binary_accuracy: 0.8492\n",
      "Epoch 14/200\n",
      "23/23 [==============================] - 0s 5ms/step - loss: 0.5234 - binary_accuracy: 0.7711 - val_loss: 0.3987 - val_binary_accuracy: 0.8492\n",
      "Epoch 15/200\n",
      "23/23 [==============================] - 0s 5ms/step - loss: 0.4876 - binary_accuracy: 0.7739 - val_loss: 0.3932 - val_binary_accuracy: 0.8492\n",
      "Epoch 16/200\n",
      "23/23 [==============================] - 0s 4ms/step - loss: 0.4799 - binary_accuracy: 0.7907 - val_loss: 0.3885 - val_binary_accuracy: 0.8547\n",
      "Epoch 17/200\n",
      "23/23 [==============================] - 0s 5ms/step - loss: 0.4956 - binary_accuracy: 0.7823 - val_loss: 0.3885 - val_binary_accuracy: 0.8547\n",
      "Epoch 18/200\n",
      "23/23 [==============================] - 0s 4ms/step - loss: 0.5280 - binary_accuracy: 0.7598 - val_loss: 0.3913 - val_binary_accuracy: 0.8436\n",
      "Epoch 19/200\n",
      "23/23 [==============================] - 0s 4ms/step - loss: 0.4820 - binary_accuracy: 0.7795 - val_loss: 0.3892 - val_binary_accuracy: 0.8603\n",
      "Epoch 20/200\n",
      "23/23 [==============================] - 0s 4ms/step - loss: 0.4945 - binary_accuracy: 0.7767 - val_loss: 0.3887 - val_binary_accuracy: 0.8492\n",
      "Epoch 21/200\n",
      "23/23 [==============================] - 0s 5ms/step - loss: 0.4687 - binary_accuracy: 0.7809 - val_loss: 0.3890 - val_binary_accuracy: 0.8603\n"
     ]
    },
    {
     "data": {
      "text/plain": [
       "<Axes: title={'center': 'Accuracy'}>"
      ]
     },
     "execution_count": 9,
     "metadata": {},
     "output_type": "execute_result"
    },
    {
     "data": {
      "image/png": "[encoded data removed]",
      "text/plain": [
       "<Figure size 640x480 with 1 Axes>"
      ]
     },
     "metadata": {},
     "output_type": "display_data"
    },
    {
     "data": {
      "image/png": "[encoded data removed]",
      "text/plain": [
       "<Figure size 640x480 with 1 Axes>"
      ]
     },
     "metadata": {},
     "output_type": "display_data"
    }
   ],
   "source": [
    "early_stopping = keras.callbacks.EarlyStopping(\n",
    "    patience=5,\n",
    "    min_delta=0.001,\n",
    "    restore_best_weights=True,\n",
    ")\n",
    "\n",
    "history = model.fit(\n",
    "    X_train, y_train,\n",
    "    validation_data=(X_valid, y_valid),\n",
    "    batch_size=32,\n",
    "    epochs=200,\n",
    "    callbacks=[early_stopping],\n",
    ")\n",
    "\n",
    "\n",
    "# Plotting the learning process\n",
    "history_df = pd.DataFrame(history.history)\n",
    "history_df.loc[:, ['loss', 'val_loss']].plot(title=\"Cross-entropy\")\n",
    "history_df.loc[:, ['binary_accuracy', 'val_binary_accuracy']].plot(title=\"Accuracy\")"
   ]
  },
  {
   "cell_type": "markdown",
   "id": "659f3d17",
   "metadata": {
    "papermill": {
     "duration": 0.016784,
     "end_time": "2024-02-25T23:35:53.631754",
     "exception": false,
     "start_time": "2024-02-25T23:35:53.614970",
     "status": "completed"
    },
    "tags": []
   },
   "source": [
    "### Applying the model to the test data"
   ]
  },
  {
   "cell_type": "code",
   "execution_count": 10,
   "id": "4a1db4f8",
   "metadata": {
    "execution": {
     "iopub.execute_input": "2024-02-25T23:35:53.668026Z",
     "iopub.status.busy": "2024-02-25T23:35:53.667351Z",
     "iopub.status.idle": "2024-02-25T23:35:53.918209Z",
     "shell.execute_reply": "2024-02-25T23:35:53.917052Z"
    },
    "papermill": {
     "duration": 0.272461,
     "end_time": "2024-02-25T23:35:53.921185",
     "exception": false,
     "start_time": "2024-02-25T23:35:53.648724",
     "status": "completed"
    },
    "tags": []
   },
   "outputs": [
    {
     "name": "stdout",
     "output_type": "stream",
     "text": [
      "14/14 [==============================] - 0s 2ms/step\n"
     ]
    }
   ],
   "source": [
    "my_pipeline = Pipeline(steps=[('preprocessor', preprocessor),\n",
    "                              ('model', model),\n",
    "                              ])\n",
    "\n",
    "predictions = my_pipeline.predict(data_test)\n",
    "binary_predictions = (predictions >= 0.5).astype(int)\n"
   ]
  },
  {
   "cell_type": "code",
   "execution_count": 11,
   "id": "31c4f8fe",
   "metadata": {
    "execution": {
     "iopub.execute_input": "2024-02-25T23:35:53.958536Z",
     "iopub.status.busy": "2024-02-25T23:35:53.958099Z",
     "iopub.status.idle": "2024-02-25T23:35:53.967929Z",
     "shell.execute_reply": "2024-02-25T23:35:53.967067Z"
    },
    "papermill": {
     "duration": 0.031405,
     "end_time": "2024-02-25T23:35:53.970390",
     "exception": false,
     "start_time": "2024-02-25T23:35:53.938985",
     "status": "completed"
    },
    "tags": []
   },
   "outputs": [],
   "source": [
    "output = pd.DataFrame({'PassengerId': data_test.index,\n",
    "                       'Survived': binary_predictions.reshape(-1,)},)\n",
    "output.to_csv('submission.csv', index=False,encoding='utf-8')"
   ]
  },
  {
   "cell_type": "code",
   "execution_count": 12,
   "id": "2e7ad6f9",
   "metadata": {
    "execution": {
     "iopub.execute_input": "2024-02-25T23:35:54.008298Z",
     "iopub.status.busy": "2024-02-25T23:35:54.007455Z",
     "iopub.status.idle": "2024-02-25T23:35:54.018035Z",
     "shell.execute_reply": "2024-02-25T23:35:54.017011Z"
    },
    "papermill": {
     "duration": 0.032432,
     "end_time": "2024-02-25T23:35:54.020367",
     "exception": false,
     "start_time": "2024-02-25T23:35:53.987935",
     "status": "completed"
    },
    "tags": []
   },
   "outputs": [
    {
     "data": {
      "text/html": [
       "<div>\n",
       "<style scoped>\n",
       "    .dataframe tbody tr th:only-of-type {\n",
       "        vertical-align: middle;\n",
       "    }\n",
       "\n",
       "    .dataframe tbody tr th {\n",
       "        vertical-align: top;\n",
       "    }\n",
       "\n",
       "    .dataframe thead th {\n",
       "        text-align: right;\n",
       "    }\n",
       "</style>\n",
       "<table border=\"1\" class=\"dataframe\">\n",
       "  <thead>\n",
       "    <tr style=\"text-align: right;\">\n",
       "      <th></th>\n",
       "      <th>PassengerId</th>\n",
       "      <th>Survived</th>\n",
       "    </tr>\n",
       "  </thead>\n",
       "  <tbody>\n",
       "    <tr>\n",
       "      <th>0</th>\n",
       "      <td>892</td>\n",
       "      <td>0</td>\n",
       "    </tr>\n",
       "    <tr>\n",
       "      <th>1</th>\n",
       "      <td>893</td>\n",
       "      <td>1</td>\n",
       "    </tr>\n",
       "    <tr>\n",
       "      <th>2</th>\n",
       "      <td>894</td>\n",
       "      <td>0</td>\n",
       "    </tr>\n",
       "    <tr>\n",
       "      <th>3</th>\n",
       "      <td>895</td>\n",
       "      <td>0</td>\n",
       "    </tr>\n",
       "    <tr>\n",
       "      <th>4</th>\n",
       "      <td>896</td>\n",
       "      <td>1</td>\n",
       "    </tr>\n",
       "  </tbody>\n",
       "</table>\n",
       "</div>"
      ],
      "text/plain": [
       "   PassengerId  Survived\n",
       "0          892         0\n",
       "1          893         1\n",
       "2          894         0\n",
       "3          895         0\n",
       "4          896         1"
      ]
     },
     "execution_count": 12,
     "metadata": {},
     "output_type": "execute_result"
    }
   ],
   "source": [
    "output.head()"
   ]
  },
  {
   "cell_type": "markdown",
   "id": "ae555be2",
   "metadata": {
    "papermill": {
     "duration": 0.018499,
     "end_time": "2024-02-25T23:35:54.056888",
     "exception": false,
     "start_time": "2024-02-25T23:35:54.038389",
     "status": "completed"
    },
    "tags": []
   },
   "source": [
    "### To-do list:\n",
    "1. Correct input layer\n",
    "2. Impute with indication of missing data"
   ]
  }
 ],
 "metadata": {
  "kaggle": {
   "accelerator": "none",
   "dataSources": [
    {
     "databundleVersionId": 26502,
     "sourceId": 3136,
     "sourceType": "competition"
    }
   ],
   "dockerImageVersionId": 30646,
   "isGpuEnabled": false,
   "isInternetEnabled": true,
   "language": "python",
   "sourceType": "notebook"
  },
  "kernelspec": {
   "display_name": "Python 3",
   "language": "python",
   "name": "python3"
  },
  "language_info": {
   "codemirror_mode": {
    "name": "ipython",
    "version": 3
   },
   "file_extension": ".py",
   "mimetype": "text/x-python",
   "name": "python",
   "nbconvert_exporter": "python",
   "pygments_lexer": "ipython3",
   "version": "3.10.13"
  },
  "papermill": {
   "default_parameters": {},
   "duration": 32.01706,
   "end_time": "2024-02-25T23:35:55.800967",
   "environment_variables": {},
   "exception": null,
   "input_path": "__notebook__.ipynb",
   "output_path": "__notebook__.ipynb",
   "parameters": {},
   "start_time": "2024-02-25T23:35:23.783907",
   "version": "2.5.0"
  }
 },
 "nbformat": 4,
 "nbformat_minor": 5
}
