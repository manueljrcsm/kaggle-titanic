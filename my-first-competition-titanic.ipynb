{
 "cells": [
  {
   "cell_type": "markdown",
   "id": "b4e6c3dd",
   "metadata": {
    "papermill": {
     "duration": 0.004619,
     "end_time": "2024-02-26T00:15:02.496331",
     "exception": false,
     "start_time": "2024-02-26T00:15:02.491712",
     "status": "completed"
    },
    "tags": []
   },
   "source": [
    "### Imports and project setup"
   ]
  },
  {
   "cell_type": "code",
   "execution_count": 1,
   "id": "b27322db",
   "metadata": {
    "_cell_guid": "b1076dfc-b9ad-4769-8c92-a6c4dae69d19",
    "_uuid": "8f2839f25d086af736a60e9eeb907d3b93b6e0e5",
    "execution": {
     "iopub.execute_input": "2024-02-26T00:15:02.506752Z",
     "iopub.status.busy": "2024-02-26T00:15:02.506103Z",
     "iopub.status.idle": "2024-02-26T00:15:04.383734Z",
     "shell.execute_reply": "2024-02-26T00:15:04.382240Z"
    },
    "papermill": {
     "duration": 1.885402,
     "end_time": "2024-02-26T00:15:04.385969",
     "exception": false,
     "start_time": "2024-02-26T00:15:02.500567",
     "status": "completed"
    },
    "tags": []
   },
   "outputs": [
    {
     "name": "stdout",
     "output_type": "stream",
     "text": [
      "/kaggle/input/titanic/train.csv\n",
      "/kaggle/input/titanic/test.csv\n",
      "/kaggle/input/titanic/gender_submission.csv\n",
      "Setup Complete.\n"
     ]
    }
   ],
   "source": [
    "# This Python 3 environment comes with many helpful analytics libraries installed\n",
    "# It is defined by the kaggle/python Docker image: https://github.com/kaggle/docker-python\n",
    "# For example, here's several helpful packages to load\n",
    "\n",
    "import numpy as np # linear algebra\n",
    "import pandas as pd # data processing, CSV file I/O (e.g. pd.read_csv)\n",
    "from sklearn.impute import SimpleImputer #imputer\n",
    "from sklearn.preprocessing import StandardScaler, OneHotEncoder # for handling categorical columns\n",
    "from sklearn.model_selection import train_test_split # to partition data into train and val\n",
    "from sklearn.compose import make_column_transformer # preprocessing\n",
    "from sklearn.pipeline import make_pipeline,Pipeline # pipelines\n",
    "\n",
    "# Input data files are available in the read-only \"../input/\" directory\n",
    "# For example, running this (by clicking run or pressing Shift+Enter) will list all files under the input directory\n",
    "\n",
    "import os\n",
    "for dirname, _, filenames in os.walk('/kaggle/input'):\n",
    "    for filename in filenames:\n",
    "        print(os.path.join(dirname, filename))\n",
    "\n",
    "# You can write up to 20GB to the current directory (/kaggle/working/) that gets preserved as output when you create a version using \"Save & Run All\" \n",
    "# You can also write temporary files to /kaggle/temp/, but they won't be saved outside of the current session\n",
    "\n",
    "# Setup plotting\n",
    "import matplotlib.pyplot as plt\n",
    "plt.style.use('seaborn-v0_8-whitegrid')\n",
    "# Set Matplotlib defaults\n",
    "plt.rc('figure', autolayout=True)\n",
    "plt.rc('axes', labelweight='bold', labelsize='large',\n",
    "       titleweight='bold', titlesize=18, titlepad=10)\n",
    "plt.rc('animation', html='html5')\n",
    "\n",
    "print(\"Setup Complete.\")"
   ]
  },
  {
   "cell_type": "markdown",
   "id": "69b6d506",
   "metadata": {
    "papermill": {
     "duration": 0.003904,
     "end_time": "2024-02-26T00:15:04.394256",
     "exception": false,
     "start_time": "2024-02-26T00:15:04.390352",
     "status": "completed"
    },
    "tags": []
   },
   "source": [
    "### Reading the data"
   ]
  },
  {
   "cell_type": "code",
   "execution_count": 2,
   "id": "6eaf48b7",
   "metadata": {
    "execution": {
     "iopub.execute_input": "2024-02-26T00:15:04.404550Z",
     "iopub.status.busy": "2024-02-26T00:15:04.404110Z",
     "iopub.status.idle": "2024-02-26T00:15:04.466714Z",
     "shell.execute_reply": "2024-02-26T00:15:04.465796Z"
    },
    "papermill": {
     "duration": 0.070334,
     "end_time": "2024-02-26T00:15:04.468528",
     "exception": false,
     "start_time": "2024-02-26T00:15:04.398194",
     "status": "completed"
    },
    "tags": []
   },
   "outputs": [
    {
     "name": "stdout",
     "output_type": "stream",
     "text": [
      "(891, 10)\n"
     ]
    },
    {
     "data": {
      "text/html": [
       "<div>\n",
       "<style scoped>\n",
       "    .dataframe tbody tr th:only-of-type {\n",
       "        vertical-align: middle;\n",
       "    }\n",
       "\n",
       "    .dataframe tbody tr th {\n",
       "        vertical-align: top;\n",
       "    }\n",
       "\n",
       "    .dataframe thead th {\n",
       "        text-align: right;\n",
       "    }\n",
       "</style>\n",
       "<table border=\"1\" class=\"dataframe\">\n",
       "  <thead>\n",
       "    <tr style=\"text-align: right;\">\n",
       "      <th></th>\n",
       "      <th>Pclass</th>\n",
       "      <th>Name</th>\n",
       "      <th>Sex</th>\n",
       "      <th>Age</th>\n",
       "      <th>SibSp</th>\n",
       "      <th>Parch</th>\n",
       "      <th>Ticket</th>\n",
       "      <th>Fare</th>\n",
       "      <th>Cabin</th>\n",
       "      <th>Embarked</th>\n",
       "    </tr>\n",
       "    <tr>\n",
       "      <th>PassengerId</th>\n",
       "      <th></th>\n",
       "      <th></th>\n",
       "      <th></th>\n",
       "      <th></th>\n",
       "      <th></th>\n",
       "      <th></th>\n",
       "      <th></th>\n",
       "      <th></th>\n",
       "      <th></th>\n",
       "      <th></th>\n",
       "    </tr>\n",
       "  </thead>\n",
       "  <tbody>\n",
       "    <tr>\n",
       "      <th>1</th>\n",
       "      <td>3</td>\n",
       "      <td>Braund, Mr. Owen Harris</td>\n",
       "      <td>male</td>\n",
       "      <td>22.0</td>\n",
       "      <td>1</td>\n",
       "      <td>0</td>\n",
       "      <td>A/5 21171</td>\n",
       "      <td>7.2500</td>\n",
       "      <td>NaN</td>\n",
       "      <td>S</td>\n",
       "    </tr>\n",
       "    <tr>\n",
       "      <th>2</th>\n",
       "      <td>1</td>\n",
       "      <td>Cumings, Mrs. John Bradley (Florence Briggs Th...</td>\n",
       "      <td>female</td>\n",
       "      <td>38.0</td>\n",
       "      <td>1</td>\n",
       "      <td>0</td>\n",
       "      <td>PC 17599</td>\n",
       "      <td>71.2833</td>\n",
       "      <td>C85</td>\n",
       "      <td>C</td>\n",
       "    </tr>\n",
       "    <tr>\n",
       "      <th>3</th>\n",
       "      <td>3</td>\n",
       "      <td>Heikkinen, Miss. Laina</td>\n",
       "      <td>female</td>\n",
       "      <td>26.0</td>\n",
       "      <td>0</td>\n",
       "      <td>0</td>\n",
       "      <td>STON/O2. 3101282</td>\n",
       "      <td>7.9250</td>\n",
       "      <td>NaN</td>\n",
       "      <td>S</td>\n",
       "    </tr>\n",
       "    <tr>\n",
       "      <th>4</th>\n",
       "      <td>1</td>\n",
       "      <td>Futrelle, Mrs. Jacques Heath (Lily May Peel)</td>\n",
       "      <td>female</td>\n",
       "      <td>35.0</td>\n",
       "      <td>1</td>\n",
       "      <td>0</td>\n",
       "      <td>113803</td>\n",
       "      <td>53.1000</td>\n",
       "      <td>C123</td>\n",
       "      <td>S</td>\n",
       "    </tr>\n",
       "    <tr>\n",
       "      <th>5</th>\n",
       "      <td>3</td>\n",
       "      <td>Allen, Mr. William Henry</td>\n",
       "      <td>male</td>\n",
       "      <td>35.0</td>\n",
       "      <td>0</td>\n",
       "      <td>0</td>\n",
       "      <td>373450</td>\n",
       "      <td>8.0500</td>\n",
       "      <td>NaN</td>\n",
       "      <td>S</td>\n",
       "    </tr>\n",
       "  </tbody>\n",
       "</table>\n",
       "</div>"
      ],
      "text/plain": [
       "             Pclass                                               Name  \\\n",
       "PassengerId                                                              \n",
       "1                 3                            Braund, Mr. Owen Harris   \n",
       "2                 1  Cumings, Mrs. John Bradley (Florence Briggs Th...   \n",
       "3                 3                             Heikkinen, Miss. Laina   \n",
       "4                 1       Futrelle, Mrs. Jacques Heath (Lily May Peel)   \n",
       "5                 3                           Allen, Mr. William Henry   \n",
       "\n",
       "                Sex   Age  SibSp  Parch            Ticket     Fare Cabin  \\\n",
       "PassengerId                                                                \n",
       "1              male  22.0      1      0         A/5 21171   7.2500   NaN   \n",
       "2            female  38.0      1      0          PC 17599  71.2833   C85   \n",
       "3            female  26.0      0      0  STON/O2. 3101282   7.9250   NaN   \n",
       "4            female  35.0      1      0            113803  53.1000  C123   \n",
       "5              male  35.0      0      0            373450   8.0500   NaN   \n",
       "\n",
       "            Embarked  \n",
       "PassengerId           \n",
       "1                  S  \n",
       "2                  C  \n",
       "3                  S  \n",
       "4                  S  \n",
       "5                  S  "
      ]
     },
     "execution_count": 2,
     "metadata": {},
     "output_type": "execute_result"
    }
   ],
   "source": [
    "#data_train = pd.read_csv(\"./train.csv\", index_col=0,encoding=\"utf-8\")\n",
    "#data_test = pd.read_csv(\"./test.csv\", index_col=0,encoding=\"utf-8\")\n",
    "data_train = pd.read_csv(\"/kaggle/input/titanic/train.csv\", index_col=0)\n",
    "data_test = pd.read_csv(\"/kaggle/input/titanic/test.csv\", index_col=0)\n",
    "\n",
    "X = data_train.copy()\n",
    "y = X.pop('Survived')\n",
    "\n",
    "print(X.shape)\n",
    "X.head()"
   ]
  },
  {
   "cell_type": "markdown",
   "id": "c50b1f64",
   "metadata": {
    "papermill": {
     "duration": 0.004307,
     "end_time": "2024-02-26T00:15:04.477313",
     "exception": false,
     "start_time": "2024-02-26T00:15:04.473006",
     "status": "completed"
    },
    "tags": []
   },
   "source": [
    "### Investigating the Data "
   ]
  },
  {
   "cell_type": "code",
   "execution_count": 3,
   "id": "3e97a10f",
   "metadata": {
    "execution": {
     "iopub.execute_input": "2024-02-26T00:15:04.487702Z",
     "iopub.status.busy": "2024-02-26T00:15:04.487366Z",
     "iopub.status.idle": "2024-02-26T00:15:04.493837Z",
     "shell.execute_reply": "2024-02-26T00:15:04.493058Z"
    },
    "papermill": {
     "duration": 0.013574,
     "end_time": "2024-02-26T00:15:04.495330",
     "exception": false,
     "start_time": "2024-02-26T00:15:04.481756",
     "status": "completed"
    },
    "tags": []
   },
   "outputs": [
    {
     "data": {
      "text/plain": [
       "Survived      int64\n",
       "Pclass        int64\n",
       "Name         object\n",
       "Sex          object\n",
       "Age         float64\n",
       "SibSp         int64\n",
       "Parch         int64\n",
       "Ticket       object\n",
       "Fare        float64\n",
       "Cabin        object\n",
       "Embarked     object\n",
       "dtype: object"
      ]
     },
     "execution_count": 3,
     "metadata": {},
     "output_type": "execute_result"
    }
   ],
   "source": [
    "data_train.dtypes"
   ]
  },
  {
   "cell_type": "code",
   "execution_count": 4,
   "id": "2a66e368",
   "metadata": {
    "execution": {
     "iopub.execute_input": "2024-02-26T00:15:04.506402Z",
     "iopub.status.busy": "2024-02-26T00:15:04.505782Z",
     "iopub.status.idle": "2024-02-26T00:15:04.514466Z",
     "shell.execute_reply": "2024-02-26T00:15:04.513926Z"
    },
    "papermill": {
     "duration": 0.016086,
     "end_time": "2024-02-26T00:15:04.516039",
     "exception": false,
     "start_time": "2024-02-26T00:15:04.499953",
     "status": "completed"
    },
    "tags": []
   },
   "outputs": [
    {
     "data": {
      "text/plain": [
       "Name        891\n",
       "Sex           2\n",
       "Ticket      681\n",
       "Cabin       147\n",
       "Embarked      3\n",
       "dtype: int64"
      ]
     },
     "execution_count": 4,
     "metadata": {},
     "output_type": "execute_result"
    }
   ],
   "source": [
    "data_train.select_dtypes(exclude='number').nunique(axis=0, dropna=True)"
   ]
  },
  {
   "cell_type": "code",
   "execution_count": 5,
   "id": "9c855252",
   "metadata": {
    "execution": {
     "iopub.execute_input": "2024-02-26T00:15:04.526630Z",
     "iopub.status.busy": "2024-02-26T00:15:04.526079Z",
     "iopub.status.idle": "2024-02-26T00:15:04.534056Z",
     "shell.execute_reply": "2024-02-26T00:15:04.533149Z"
    },
    "papermill": {
     "duration": 0.015134,
     "end_time": "2024-02-26T00:15:04.535941",
     "exception": false,
     "start_time": "2024-02-26T00:15:04.520807",
     "status": "completed"
    },
    "tags": []
   },
   "outputs": [
    {
     "data": {
      "text/plain": [
       "Name        418\n",
       "Sex           2\n",
       "Ticket      363\n",
       "Cabin        77\n",
       "Embarked      3\n",
       "dtype: int64"
      ]
     },
     "execution_count": 5,
     "metadata": {},
     "output_type": "execute_result"
    }
   ],
   "source": [
    "data_test.select_dtypes(exclude='number').nunique(axis=0, dropna=False)"
   ]
  },
  {
   "cell_type": "markdown",
   "id": "389ac164",
   "metadata": {
    "papermill": {
     "duration": 0.004569,
     "end_time": "2024-02-26T00:15:04.545287",
     "exception": false,
     "start_time": "2024-02-26T00:15:04.540718",
     "status": "completed"
    },
    "tags": []
   },
   "source": [
    "### Preprocessing the data"
   ]
  },
  {
   "cell_type": "code",
   "execution_count": 6,
   "id": "da315647",
   "metadata": {
    "execution": {
     "iopub.execute_input": "2024-02-26T00:15:04.556194Z",
     "iopub.status.busy": "2024-02-26T00:15:04.555766Z",
     "iopub.status.idle": "2024-02-26T00:15:04.660747Z",
     "shell.execute_reply": "2024-02-26T00:15:04.659879Z"
    },
    "papermill": {
     "duration": 0.112603,
     "end_time": "2024-02-26T00:15:04.662352",
     "exception": false,
     "start_time": "2024-02-26T00:15:04.549749",
     "status": "completed"
    },
    "tags": []
   },
   "outputs": [
    {
     "name": "stdout",
     "output_type": "stream",
     "text": [
      "[11]\n"
     ]
    }
   ],
   "source": [
    "features_num = [col for col in X.columns if X[col].dtype in ['int64','float64']]\n",
    "    # automatically add numerical columns here\n",
    "assert features_num == [\"Pclass\", \"Age\", \"SibSp\", \"Parch\",\"Fare\"]\n",
    "\n",
    "features_cat = [col for col in X.columns if X[col].dtype == 'object' and \n",
    "                                                X[col].nunique() <= 10\n",
    "]   # manually add catgorical columns here or automate it  \n",
    "assert features_cat == ['Sex', 'Embarked']\n",
    "\n",
    "transformer_num = make_pipeline(\n",
    "    SimpleImputer(strategy=\"constant\"), # there are a few missing values\n",
    "    StandardScaler(),\n",
    ")\n",
    "transformer_cat = make_pipeline(\n",
    "    SimpleImputer(strategy=\"constant\"),\n",
    "    OneHotEncoder(handle_unknown='ignore'),\n",
    ")\n",
    "\n",
    "preprocessor = make_column_transformer(\n",
    "    (transformer_num, features_num),\n",
    "    (transformer_cat, features_cat),\n",
    ")\n",
    "\n",
    "# Create the train/valid split\n",
    "X_train, X_valid, y_train, y_valid =  \\\n",
    "    train_test_split(X, y, stratify=y, train_size=0.8, random_state=8, )\n",
    "X_train = preprocessor.fit_transform(X_train)\n",
    "X_valid = preprocessor.transform(X_valid)\n",
    "\n",
    "input_shape = [X_train.shape[1]]\n",
    "print(input_shape)"
   ]
  },
  {
   "cell_type": "code",
   "execution_count": 7,
   "id": "6ca9da21",
   "metadata": {
    "execution": {
     "iopub.execute_input": "2024-02-26T00:15:04.673799Z",
     "iopub.status.busy": "2024-02-26T00:15:04.672881Z",
     "iopub.status.idle": "2024-02-26T00:15:04.678711Z",
     "shell.execute_reply": "2024-02-26T00:15:04.677830Z"
    },
    "papermill": {
     "duration": 0.01353,
     "end_time": "2024-02-26T00:15:04.680753",
     "exception": false,
     "start_time": "2024-02-26T00:15:04.667223",
     "status": "completed"
    },
    "tags": []
   },
   "outputs": [
    {
     "data": {
      "text/plain": [
       "(712, 11)"
      ]
     },
     "execution_count": 7,
     "metadata": {},
     "output_type": "execute_result"
    }
   ],
   "source": [
    "X_train.shape"
   ]
  },
  {
   "cell_type": "markdown",
   "id": "c5247049",
   "metadata": {
    "papermill": {
     "duration": 0.004529,
     "end_time": "2024-02-26T00:15:04.690186",
     "exception": false,
     "start_time": "2024-02-26T00:15:04.685657",
     "status": "completed"
    },
    "tags": []
   },
   "source": [
    "### Setting up the neural network"
   ]
  },
  {
   "cell_type": "code",
   "execution_count": 8,
   "id": "4d5dd34e",
   "metadata": {
    "execution": {
     "iopub.execute_input": "2024-02-26T00:15:04.701329Z",
     "iopub.status.busy": "2024-02-26T00:15:04.701016Z",
     "iopub.status.idle": "2024-02-26T00:15:16.973000Z",
     "shell.execute_reply": "2024-02-26T00:15:16.972118Z"
    },
    "papermill": {
     "duration": 12.279964,
     "end_time": "2024-02-26T00:15:16.974969",
     "exception": false,
     "start_time": "2024-02-26T00:15:04.695005",
     "status": "completed"
    },
    "tags": []
   },
   "outputs": [
    {
     "name": "stderr",
     "output_type": "stream",
     "text": [
      "2024-02-26 00:15:06.576914: E external/local_xla/xla/stream_executor/cuda/cuda_dnn.cc:9261] Unable to register cuDNN factory: Attempting to register factory for plugin cuDNN when one has already been registered\n",
      "2024-02-26 00:15:06.577021: E external/local_xla/xla/stream_executor/cuda/cuda_fft.cc:607] Unable to register cuFFT factory: Attempting to register factory for plugin cuFFT when one has already been registered\n",
      "2024-02-26 00:15:06.721397: E external/local_xla/xla/stream_executor/cuda/cuda_blas.cc:1515] Unable to register cuBLAS factory: Attempting to register factory for plugin cuBLAS when one has already been registered\n"
     ]
    }
   ],
   "source": [
    "# neural network definition\n",
    "from tensorflow import keras\n",
    "from tensorflow.keras import layers\n",
    "\n",
    "model = keras.Sequential([\n",
    "    layers.Input(shape=input_shape),\n",
    "    layers.BatchNormalization(),\n",
    "    \n",
    "    layers.Dense(256, activation='relu'),\n",
    "    layers.BatchNormalization(),\n",
    "    layers.Dropout(0.3),\n",
    "    \n",
    "    layers.Dense(256, activation='relu'),\n",
    "    layers.BatchNormalization(),\n",
    "    layers.Dropout(0.3),\n",
    "\n",
    "    layers.Dense(256, activation='relu'),\n",
    "    layers.BatchNormalization(),\n",
    "    layers.Dropout(0.3),\n",
    "    \n",
    "    layers.Dense(1, activation='sigmoid'),\n",
    "])\n",
    "# compiling\n",
    "model.compile(\n",
    "    optimizer='adam',\n",
    "    loss='binary_crossentropy',\n",
    "    metrics=['binary_accuracy'],\n",
    ")"
   ]
  },
  {
   "cell_type": "markdown",
   "id": "8ac9b084",
   "metadata": {
    "papermill": {
     "duration": 0.00641,
     "end_time": "2024-02-26T00:15:16.986334",
     "exception": false,
     "start_time": "2024-02-26T00:15:16.979924",
     "status": "completed"
    },
    "tags": []
   },
   "source": [
    "### Learning the train set and validating"
   ]
  },
  {
   "cell_type": "code",
   "execution_count": 9,
   "id": "54185df9",
   "metadata": {
    "execution": {
     "iopub.execute_input": "2024-02-26T00:15:16.997553Z",
     "iopub.status.busy": "2024-02-26T00:15:16.997211Z",
     "iopub.status.idle": "2024-02-26T00:15:39.978573Z",
     "shell.execute_reply": "2024-02-26T00:15:39.977955Z"
    },
    "papermill": {
     "duration": 22.988991,
     "end_time": "2024-02-26T00:15:39.980098",
     "exception": false,
     "start_time": "2024-02-26T00:15:16.991107",
     "status": "completed"
    },
    "tags": []
   },
   "outputs": [
    {
     "name": "stdout",
     "output_type": "stream",
     "text": [
      "Epoch 1/400\n",
      "2/2 [==============================] - 2s 254ms/step - loss: 0.9385 - binary_accuracy: 0.5351 - val_loss: 0.6540 - val_binary_accuracy: 0.7821\n",
      "Epoch 2/400\n",
      "2/2 [==============================] - 0s 37ms/step - loss: 0.7019 - binary_accuracy: 0.7079 - val_loss: 0.6287 - val_binary_accuracy: 0.8324\n",
      "Epoch 3/400\n",
      "2/2 [==============================] - 0s 35ms/step - loss: 0.5912 - binary_accuracy: 0.7584 - val_loss: 0.6162 - val_binary_accuracy: 0.8156\n",
      "Epoch 4/400\n",
      "2/2 [==============================] - 0s 35ms/step - loss: 0.5692 - binary_accuracy: 0.7669 - val_loss: 0.6099 - val_binary_accuracy: 0.7821\n",
      "Epoch 5/400\n",
      "2/2 [==============================] - 0s 37ms/step - loss: 0.5636 - binary_accuracy: 0.7669 - val_loss: 0.6059 - val_binary_accuracy: 0.7598\n",
      "Epoch 6/400\n",
      "2/2 [==============================] - 0s 35ms/step - loss: 0.5087 - binary_accuracy: 0.7879 - val_loss: 0.6024 - val_binary_accuracy: 0.7542\n",
      "Epoch 7/400\n",
      "2/2 [==============================] - 0s 35ms/step - loss: 0.5078 - binary_accuracy: 0.7809 - val_loss: 0.5976 - val_binary_accuracy: 0.7542\n",
      "Epoch 8/400\n",
      "2/2 [==============================] - 0s 36ms/step - loss: 0.5452 - binary_accuracy: 0.7640 - val_loss: 0.5920 - val_binary_accuracy: 0.7598\n",
      "Epoch 9/400\n",
      "2/2 [==============================] - 0s 31ms/step - loss: 0.4807 - binary_accuracy: 0.7921 - val_loss: 0.5859 - val_binary_accuracy: 0.7542\n",
      "Epoch 10/400\n",
      "2/2 [==============================] - 0s 36ms/step - loss: 0.4769 - binary_accuracy: 0.8020 - val_loss: 0.5799 - val_binary_accuracy: 0.7542\n",
      "Epoch 11/400\n",
      "2/2 [==============================] - 0s 35ms/step - loss: 0.5119 - binary_accuracy: 0.7865 - val_loss: 0.5757 - val_binary_accuracy: 0.7598\n",
      "Epoch 12/400\n",
      "2/2 [==============================] - 0s 35ms/step - loss: 0.5041 - binary_accuracy: 0.7921 - val_loss: 0.5731 - val_binary_accuracy: 0.7542\n",
      "Epoch 13/400\n",
      "2/2 [==============================] - 0s 33ms/step - loss: 0.4691 - binary_accuracy: 0.8104 - val_loss: 0.5724 - val_binary_accuracy: 0.7542\n",
      "Epoch 14/400\n",
      "2/2 [==============================] - 0s 32ms/step - loss: 0.4957 - binary_accuracy: 0.7879 - val_loss: 0.5736 - val_binary_accuracy: 0.7542\n",
      "Epoch 15/400\n",
      "2/2 [==============================] - 0s 34ms/step - loss: 0.4794 - binary_accuracy: 0.8006 - val_loss: 0.5764 - val_binary_accuracy: 0.7374\n",
      "Epoch 16/400\n",
      "2/2 [==============================] - 0s 49ms/step - loss: 0.4674 - binary_accuracy: 0.8034 - val_loss: 0.5784 - val_binary_accuracy: 0.7263\n",
      "Epoch 17/400\n",
      "2/2 [==============================] - 0s 34ms/step - loss: 0.4760 - binary_accuracy: 0.8034 - val_loss: 0.5798 - val_binary_accuracy: 0.7151\n",
      "Epoch 18/400\n",
      "2/2 [==============================] - 0s 32ms/step - loss: 0.4475 - binary_accuracy: 0.8174 - val_loss: 0.5806 - val_binary_accuracy: 0.7095\n",
      "Epoch 19/400\n",
      "2/2 [==============================] - 0s 34ms/step - loss: 0.4525 - binary_accuracy: 0.8230 - val_loss: 0.5805 - val_binary_accuracy: 0.7039\n",
      "Epoch 20/400\n",
      "2/2 [==============================] - 0s 34ms/step - loss: 0.4368 - binary_accuracy: 0.8090 - val_loss: 0.5803 - val_binary_accuracy: 0.7095\n",
      "Epoch 21/400\n",
      "2/2 [==============================] - 0s 28ms/step - loss: 0.4681 - binary_accuracy: 0.8034 - val_loss: 0.5807 - val_binary_accuracy: 0.7207\n",
      "Epoch 22/400\n",
      "2/2 [==============================] - 0s 32ms/step - loss: 0.4602 - binary_accuracy: 0.8104 - val_loss: 0.5810 - val_binary_accuracy: 0.7039\n",
      "Epoch 23/400\n",
      "2/2 [==============================] - 0s 31ms/step - loss: 0.4574 - binary_accuracy: 0.8076 - val_loss: 0.5799 - val_binary_accuracy: 0.6927\n",
      "Epoch 24/400\n",
      "2/2 [==============================] - 0s 31ms/step - loss: 0.4366 - binary_accuracy: 0.8104 - val_loss: 0.5778 - val_binary_accuracy: 0.6927\n",
      "Epoch 25/400\n",
      "2/2 [==============================] - 0s 31ms/step - loss: 0.4307 - binary_accuracy: 0.8146 - val_loss: 0.5757 - val_binary_accuracy: 0.6927\n",
      "Epoch 26/400\n",
      "2/2 [==============================] - 0s 32ms/step - loss: 0.4488 - binary_accuracy: 0.8146 - val_loss: 0.5723 - val_binary_accuracy: 0.6927\n",
      "Epoch 27/400\n",
      "2/2 [==============================] - 0s 34ms/step - loss: 0.4325 - binary_accuracy: 0.8104 - val_loss: 0.5682 - val_binary_accuracy: 0.7095\n",
      "Epoch 28/400\n",
      "2/2 [==============================] - 0s 36ms/step - loss: 0.4700 - binary_accuracy: 0.7992 - val_loss: 0.5646 - val_binary_accuracy: 0.7151\n",
      "Epoch 29/400\n",
      "2/2 [==============================] - 0s 33ms/step - loss: 0.4352 - binary_accuracy: 0.8076 - val_loss: 0.5612 - val_binary_accuracy: 0.7095\n",
      "Epoch 30/400\n",
      "2/2 [==============================] - 0s 36ms/step - loss: 0.4364 - binary_accuracy: 0.8287 - val_loss: 0.5593 - val_binary_accuracy: 0.7095\n",
      "Epoch 31/400\n",
      "2/2 [==============================] - 0s 35ms/step - loss: 0.4149 - binary_accuracy: 0.8287 - val_loss: 0.5574 - val_binary_accuracy: 0.7095\n",
      "Epoch 32/400\n",
      "2/2 [==============================] - 0s 32ms/step - loss: 0.4161 - binary_accuracy: 0.8216 - val_loss: 0.5566 - val_binary_accuracy: 0.7095\n",
      "Epoch 33/400\n",
      "2/2 [==============================] - 0s 31ms/step - loss: 0.4391 - binary_accuracy: 0.8146 - val_loss: 0.5577 - val_binary_accuracy: 0.7095\n",
      "Epoch 34/400\n",
      "2/2 [==============================] - 0s 33ms/step - loss: 0.4378 - binary_accuracy: 0.8146 - val_loss: 0.5598 - val_binary_accuracy: 0.7151\n",
      "Epoch 35/400\n",
      "2/2 [==============================] - 0s 31ms/step - loss: 0.4295 - binary_accuracy: 0.8188 - val_loss: 0.5607 - val_binary_accuracy: 0.7095\n",
      "Epoch 36/400\n",
      "2/2 [==============================] - 0s 31ms/step - loss: 0.3953 - binary_accuracy: 0.8371 - val_loss: 0.5616 - val_binary_accuracy: 0.6983\n",
      "Epoch 37/400\n",
      "2/2 [==============================] - 0s 31ms/step - loss: 0.4266 - binary_accuracy: 0.8160 - val_loss: 0.5617 - val_binary_accuracy: 0.6983\n",
      "Epoch 38/400\n",
      "2/2 [==============================] - 0s 34ms/step - loss: 0.4168 - binary_accuracy: 0.8287 - val_loss: 0.5601 - val_binary_accuracy: 0.6983\n",
      "Epoch 39/400\n",
      "2/2 [==============================] - 0s 36ms/step - loss: 0.4396 - binary_accuracy: 0.8244 - val_loss: 0.5562 - val_binary_accuracy: 0.7207\n",
      "Epoch 40/400\n",
      "2/2 [==============================] - 0s 34ms/step - loss: 0.4224 - binary_accuracy: 0.8188 - val_loss: 0.5518 - val_binary_accuracy: 0.7207\n",
      "Epoch 41/400\n",
      "2/2 [==============================] - 0s 33ms/step - loss: 0.4187 - binary_accuracy: 0.8188 - val_loss: 0.5489 - val_binary_accuracy: 0.7430\n",
      "Epoch 42/400\n",
      "2/2 [==============================] - 0s 36ms/step - loss: 0.3973 - binary_accuracy: 0.8385 - val_loss: 0.5452 - val_binary_accuracy: 0.7542\n",
      "Epoch 43/400\n",
      "2/2 [==============================] - 0s 37ms/step - loss: 0.4204 - binary_accuracy: 0.8146 - val_loss: 0.5407 - val_binary_accuracy: 0.7598\n",
      "Epoch 44/400\n",
      "2/2 [==============================] - 0s 39ms/step - loss: 0.4116 - binary_accuracy: 0.8202 - val_loss: 0.5369 - val_binary_accuracy: 0.7598\n",
      "Epoch 45/400\n",
      "2/2 [==============================] - 0s 34ms/step - loss: 0.4383 - binary_accuracy: 0.8132 - val_loss: 0.5334 - val_binary_accuracy: 0.7598\n",
      "Epoch 46/400\n",
      "2/2 [==============================] - 0s 36ms/step - loss: 0.4174 - binary_accuracy: 0.8230 - val_loss: 0.5304 - val_binary_accuracy: 0.7654\n",
      "Epoch 47/400\n",
      "2/2 [==============================] - 0s 34ms/step - loss: 0.4075 - binary_accuracy: 0.8399 - val_loss: 0.5283 - val_binary_accuracy: 0.7654\n",
      "Epoch 48/400\n",
      "2/2 [==============================] - 0s 35ms/step - loss: 0.4043 - binary_accuracy: 0.8287 - val_loss: 0.5267 - val_binary_accuracy: 0.7654\n",
      "Epoch 49/400\n",
      "2/2 [==============================] - 0s 36ms/step - loss: 0.4095 - binary_accuracy: 0.8413 - val_loss: 0.5249 - val_binary_accuracy: 0.7654\n",
      "Epoch 50/400\n",
      "2/2 [==============================] - 0s 33ms/step - loss: 0.4055 - binary_accuracy: 0.8287 - val_loss: 0.5231 - val_binary_accuracy: 0.7654\n",
      "Epoch 51/400\n",
      "2/2 [==============================] - 0s 34ms/step - loss: 0.4086 - binary_accuracy: 0.8329 - val_loss: 0.5201 - val_binary_accuracy: 0.7654\n",
      "Epoch 52/400\n",
      "2/2 [==============================] - 0s 33ms/step - loss: 0.4173 - binary_accuracy: 0.8216 - val_loss: 0.5163 - val_binary_accuracy: 0.7709\n",
      "Epoch 53/400\n",
      "2/2 [==============================] - 0s 38ms/step - loss: 0.3955 - binary_accuracy: 0.8329 - val_loss: 0.5111 - val_binary_accuracy: 0.7765\n",
      "Epoch 54/400\n",
      "2/2 [==============================] - 0s 37ms/step - loss: 0.3761 - binary_accuracy: 0.8469 - val_loss: 0.5057 - val_binary_accuracy: 0.7821\n",
      "Epoch 55/400\n",
      "2/2 [==============================] - 0s 38ms/step - loss: 0.4268 - binary_accuracy: 0.8244 - val_loss: 0.5008 - val_binary_accuracy: 0.7821\n",
      "Epoch 56/400\n",
      "2/2 [==============================] - 0s 34ms/step - loss: 0.4172 - binary_accuracy: 0.8385 - val_loss: 0.4967 - val_binary_accuracy: 0.7821\n",
      "Epoch 57/400\n",
      "2/2 [==============================] - 0s 35ms/step - loss: 0.3926 - binary_accuracy: 0.8539 - val_loss: 0.4944 - val_binary_accuracy: 0.7821\n",
      "Epoch 58/400\n",
      "2/2 [==============================] - 0s 31ms/step - loss: 0.4233 - binary_accuracy: 0.8118 - val_loss: 0.4951 - val_binary_accuracy: 0.7765\n",
      "Epoch 59/400\n",
      "2/2 [==============================] - 0s 36ms/step - loss: 0.4172 - binary_accuracy: 0.8160 - val_loss: 0.4977 - val_binary_accuracy: 0.7709\n",
      "Epoch 60/400\n",
      "2/2 [==============================] - 0s 33ms/step - loss: 0.3956 - binary_accuracy: 0.8287 - val_loss: 0.5013 - val_binary_accuracy: 0.7654\n",
      "Epoch 61/400\n",
      "2/2 [==============================] - 0s 33ms/step - loss: 0.4127 - binary_accuracy: 0.8315 - val_loss: 0.5037 - val_binary_accuracy: 0.7598\n",
      "Epoch 62/400\n",
      "2/2 [==============================] - 0s 31ms/step - loss: 0.3929 - binary_accuracy: 0.8258 - val_loss: 0.5053 - val_binary_accuracy: 0.7598\n",
      "Epoch 63/400\n",
      "2/2 [==============================] - 0s 33ms/step - loss: 0.3813 - binary_accuracy: 0.8315 - val_loss: 0.5045 - val_binary_accuracy: 0.7598\n",
      "Epoch 64/400\n",
      "2/2 [==============================] - 0s 35ms/step - loss: 0.4047 - binary_accuracy: 0.8230 - val_loss: 0.5018 - val_binary_accuracy: 0.7598\n",
      "Epoch 65/400\n",
      "2/2 [==============================] - 0s 33ms/step - loss: 0.4048 - binary_accuracy: 0.8287 - val_loss: 0.4983 - val_binary_accuracy: 0.7654\n",
      "Epoch 66/400\n",
      "2/2 [==============================] - 0s 36ms/step - loss: 0.3965 - binary_accuracy: 0.8301 - val_loss: 0.4933 - val_binary_accuracy: 0.7709\n",
      "Epoch 67/400\n",
      "2/2 [==============================] - 0s 34ms/step - loss: 0.3779 - binary_accuracy: 0.8511 - val_loss: 0.4868 - val_binary_accuracy: 0.7765\n",
      "Epoch 68/400\n",
      "2/2 [==============================] - 0s 34ms/step - loss: 0.3886 - binary_accuracy: 0.8427 - val_loss: 0.4815 - val_binary_accuracy: 0.7765\n",
      "Epoch 69/400\n",
      "2/2 [==============================] - 0s 36ms/step - loss: 0.3914 - binary_accuracy: 0.8301 - val_loss: 0.4785 - val_binary_accuracy: 0.7765\n",
      "Epoch 70/400\n",
      "2/2 [==============================] - 0s 33ms/step - loss: 0.3784 - binary_accuracy: 0.8441 - val_loss: 0.4760 - val_binary_accuracy: 0.7933\n",
      "Epoch 71/400\n",
      "2/2 [==============================] - 0s 33ms/step - loss: 0.3829 - binary_accuracy: 0.8385 - val_loss: 0.4746 - val_binary_accuracy: 0.7989\n",
      "Epoch 72/400\n",
      "2/2 [==============================] - 0s 32ms/step - loss: 0.3961 - binary_accuracy: 0.8357 - val_loss: 0.4751 - val_binary_accuracy: 0.8045\n",
      "Epoch 73/400\n",
      "2/2 [==============================] - 0s 32ms/step - loss: 0.4030 - binary_accuracy: 0.8329 - val_loss: 0.4754 - val_binary_accuracy: 0.8101\n",
      "Epoch 74/400\n",
      "2/2 [==============================] - 0s 31ms/step - loss: 0.3867 - binary_accuracy: 0.8343 - val_loss: 0.4759 - val_binary_accuracy: 0.8101\n",
      "Epoch 75/400\n",
      "2/2 [==============================] - 0s 31ms/step - loss: 0.3791 - binary_accuracy: 0.8399 - val_loss: 0.4749 - val_binary_accuracy: 0.8101\n",
      "Epoch 76/400\n",
      "2/2 [==============================] - 0s 36ms/step - loss: 0.3666 - binary_accuracy: 0.8553 - val_loss: 0.4730 - val_binary_accuracy: 0.8045\n",
      "Epoch 77/400\n",
      "2/2 [==============================] - 0s 37ms/step - loss: 0.3881 - binary_accuracy: 0.8385 - val_loss: 0.4708 - val_binary_accuracy: 0.8101\n",
      "Epoch 78/400\n",
      "2/2 [==============================] - 0s 36ms/step - loss: 0.3848 - binary_accuracy: 0.8357 - val_loss: 0.4683 - val_binary_accuracy: 0.8156\n",
      "Epoch 79/400\n",
      "2/2 [==============================] - 0s 37ms/step - loss: 0.3786 - binary_accuracy: 0.8329 - val_loss: 0.4641 - val_binary_accuracy: 0.8212\n",
      "Epoch 80/400\n",
      "2/2 [==============================] - 0s 36ms/step - loss: 0.3828 - binary_accuracy: 0.8413 - val_loss: 0.4594 - val_binary_accuracy: 0.8212\n",
      "Epoch 81/400\n",
      "2/2 [==============================] - 0s 34ms/step - loss: 0.3963 - binary_accuracy: 0.8230 - val_loss: 0.4558 - val_binary_accuracy: 0.8268\n",
      "Epoch 82/400\n",
      "2/2 [==============================] - 0s 40ms/step - loss: 0.3762 - binary_accuracy: 0.8287 - val_loss: 0.4529 - val_binary_accuracy: 0.8324\n",
      "Epoch 83/400\n",
      "2/2 [==============================] - 0s 61ms/step - loss: 0.3797 - binary_accuracy: 0.8497 - val_loss: 0.4516 - val_binary_accuracy: 0.8436\n",
      "Epoch 84/400\n",
      "2/2 [==============================] - 0s 29ms/step - loss: 0.3726 - binary_accuracy: 0.8441 - val_loss: 0.4514 - val_binary_accuracy: 0.8436\n",
      "Epoch 85/400\n",
      "2/2 [==============================] - 0s 30ms/step - loss: 0.3736 - binary_accuracy: 0.8483 - val_loss: 0.4507 - val_binary_accuracy: 0.8436\n",
      "Epoch 86/400\n",
      "2/2 [==============================] - 0s 32ms/step - loss: 0.3965 - binary_accuracy: 0.8371 - val_loss: 0.4488 - val_binary_accuracy: 0.8380\n",
      "Epoch 87/400\n",
      "2/2 [==============================] - 0s 34ms/step - loss: 0.3858 - binary_accuracy: 0.8371 - val_loss: 0.4474 - val_binary_accuracy: 0.8436\n",
      "Epoch 88/400\n",
      "2/2 [==============================] - 0s 30ms/step - loss: 0.3890 - binary_accuracy: 0.8315 - val_loss: 0.4482 - val_binary_accuracy: 0.8436\n",
      "Epoch 89/400\n",
      "2/2 [==============================] - 0s 31ms/step - loss: 0.4019 - binary_accuracy: 0.8287 - val_loss: 0.4479 - val_binary_accuracy: 0.8380\n",
      "Epoch 90/400\n",
      "2/2 [==============================] - 0s 32ms/step - loss: 0.3852 - binary_accuracy: 0.8427 - val_loss: 0.4469 - val_binary_accuracy: 0.8436\n",
      "Epoch 91/400\n",
      "2/2 [==============================] - 0s 34ms/step - loss: 0.3909 - binary_accuracy: 0.8315 - val_loss: 0.4459 - val_binary_accuracy: 0.8436\n",
      "Epoch 92/400\n",
      "2/2 [==============================] - 0s 34ms/step - loss: 0.3718 - binary_accuracy: 0.8371 - val_loss: 0.4446 - val_binary_accuracy: 0.8324\n",
      "Epoch 93/400\n",
      "2/2 [==============================] - 0s 31ms/step - loss: 0.4111 - binary_accuracy: 0.8371 - val_loss: 0.4440 - val_binary_accuracy: 0.8380\n",
      "Epoch 94/400\n",
      "2/2 [==============================] - 0s 34ms/step - loss: 0.3717 - binary_accuracy: 0.8413 - val_loss: 0.4427 - val_binary_accuracy: 0.8324\n",
      "Epoch 95/400\n",
      "2/2 [==============================] - 0s 35ms/step - loss: 0.3767 - binary_accuracy: 0.8525 - val_loss: 0.4412 - val_binary_accuracy: 0.8380\n",
      "Epoch 96/400\n",
      "2/2 [==============================] - 0s 35ms/step - loss: 0.3707 - binary_accuracy: 0.8469 - val_loss: 0.4402 - val_binary_accuracy: 0.8380\n",
      "Epoch 97/400\n",
      "2/2 [==============================] - 0s 33ms/step - loss: 0.3777 - binary_accuracy: 0.8511 - val_loss: 0.4394 - val_binary_accuracy: 0.8324\n",
      "Epoch 98/400\n",
      "2/2 [==============================] - 0s 37ms/step - loss: 0.3811 - binary_accuracy: 0.8343 - val_loss: 0.4381 - val_binary_accuracy: 0.8324\n",
      "Epoch 99/400\n",
      "2/2 [==============================] - 0s 34ms/step - loss: 0.3891 - binary_accuracy: 0.8357 - val_loss: 0.4357 - val_binary_accuracy: 0.8380\n",
      "Epoch 100/400\n",
      "2/2 [==============================] - 0s 37ms/step - loss: 0.3898 - binary_accuracy: 0.8343 - val_loss: 0.4309 - val_binary_accuracy: 0.8436\n",
      "Epoch 101/400\n",
      "2/2 [==============================] - 0s 39ms/step - loss: 0.3627 - binary_accuracy: 0.8399 - val_loss: 0.4251 - val_binary_accuracy: 0.8492\n",
      "Epoch 102/400\n",
      "2/2 [==============================] - 0s 36ms/step - loss: 0.3870 - binary_accuracy: 0.8301 - val_loss: 0.4210 - val_binary_accuracy: 0.8380\n",
      "Epoch 103/400\n",
      "2/2 [==============================] - 0s 35ms/step - loss: 0.3805 - binary_accuracy: 0.8329 - val_loss: 0.4191 - val_binary_accuracy: 0.8380\n",
      "Epoch 104/400\n",
      "2/2 [==============================] - 0s 30ms/step - loss: 0.3811 - binary_accuracy: 0.8469 - val_loss: 0.4197 - val_binary_accuracy: 0.8380\n",
      "Epoch 105/400\n",
      "2/2 [==============================] - 0s 34ms/step - loss: 0.3621 - binary_accuracy: 0.8567 - val_loss: 0.4211 - val_binary_accuracy: 0.8380\n",
      "Epoch 106/400\n",
      "2/2 [==============================] - 0s 33ms/step - loss: 0.3771 - binary_accuracy: 0.8567 - val_loss: 0.4208 - val_binary_accuracy: 0.8380\n",
      "Epoch 107/400\n",
      "2/2 [==============================] - 0s 31ms/step - loss: 0.3528 - binary_accuracy: 0.8624 - val_loss: 0.4200 - val_binary_accuracy: 0.8380\n",
      "Epoch 108/400\n",
      "2/2 [==============================] - 0s 34ms/step - loss: 0.3751 - binary_accuracy: 0.8469 - val_loss: 0.4202 - val_binary_accuracy: 0.8324\n",
      "Epoch 109/400\n",
      "2/2 [==============================] - 0s 33ms/step - loss: 0.3820 - binary_accuracy: 0.8315 - val_loss: 0.4208 - val_binary_accuracy: 0.8380\n",
      "Epoch 110/400\n",
      "2/2 [==============================] - 0s 32ms/step - loss: 0.3703 - binary_accuracy: 0.8385 - val_loss: 0.4203 - val_binary_accuracy: 0.8380\n",
      "Epoch 111/400\n",
      "2/2 [==============================] - 0s 35ms/step - loss: 0.3651 - binary_accuracy: 0.8483 - val_loss: 0.4186 - val_binary_accuracy: 0.8380\n",
      "Epoch 112/400\n",
      "2/2 [==============================] - 0s 37ms/step - loss: 0.3729 - binary_accuracy: 0.8385 - val_loss: 0.4163 - val_binary_accuracy: 0.8380\n",
      "Epoch 113/400\n",
      "2/2 [==============================] - 0s 34ms/step - loss: 0.3695 - binary_accuracy: 0.8553 - val_loss: 0.4140 - val_binary_accuracy: 0.8380\n",
      "Epoch 114/400\n",
      "2/2 [==============================] - 0s 32ms/step - loss: 0.3735 - binary_accuracy: 0.8497 - val_loss: 0.4122 - val_binary_accuracy: 0.8324\n",
      "Epoch 115/400\n",
      "2/2 [==============================] - 0s 31ms/step - loss: 0.3816 - binary_accuracy: 0.8371 - val_loss: 0.4122 - val_binary_accuracy: 0.8436\n",
      "Epoch 116/400\n",
      "2/2 [==============================] - 0s 32ms/step - loss: 0.3618 - binary_accuracy: 0.8567 - val_loss: 0.4124 - val_binary_accuracy: 0.8324\n",
      "Epoch 117/400\n",
      "2/2 [==============================] - 0s 32ms/step - loss: 0.3687 - binary_accuracy: 0.8357 - val_loss: 0.4132 - val_binary_accuracy: 0.8268\n",
      "Epoch 118/400\n",
      "2/2 [==============================] - 0s 33ms/step - loss: 0.3751 - binary_accuracy: 0.8441 - val_loss: 0.4156 - val_binary_accuracy: 0.8212\n",
      "Epoch 119/400\n",
      "2/2 [==============================] - 0s 34ms/step - loss: 0.3632 - binary_accuracy: 0.8427 - val_loss: 0.4160 - val_binary_accuracy: 0.8156\n",
      "Epoch 120/400\n",
      "2/2 [==============================] - 0s 34ms/step - loss: 0.3731 - binary_accuracy: 0.8427 - val_loss: 0.4162 - val_binary_accuracy: 0.8268\n",
      "Epoch 121/400\n",
      "2/2 [==============================] - 0s 32ms/step - loss: 0.3662 - binary_accuracy: 0.8441 - val_loss: 0.4157 - val_binary_accuracy: 0.8268\n",
      "Epoch 122/400\n",
      "2/2 [==============================] - 0s 32ms/step - loss: 0.3593 - binary_accuracy: 0.8497 - val_loss: 0.4142 - val_binary_accuracy: 0.8212\n",
      "Epoch 123/400\n",
      "2/2 [==============================] - 0s 35ms/step - loss: 0.3566 - binary_accuracy: 0.8525 - val_loss: 0.4111 - val_binary_accuracy: 0.8268\n",
      "Epoch 124/400\n",
      "2/2 [==============================] - 0s 30ms/step - loss: 0.3691 - binary_accuracy: 0.8483 - val_loss: 0.4075 - val_binary_accuracy: 0.8268\n",
      "Epoch 125/400\n",
      "2/2 [==============================] - 0s 31ms/step - loss: 0.3802 - binary_accuracy: 0.8413 - val_loss: 0.4058 - val_binary_accuracy: 0.8324\n",
      "Epoch 126/400\n",
      "2/2 [==============================] - 0s 48ms/step - loss: 0.3792 - binary_accuracy: 0.8497 - val_loss: 0.4060 - val_binary_accuracy: 0.8324\n",
      "Epoch 127/400\n",
      "2/2 [==============================] - 0s 31ms/step - loss: 0.3508 - binary_accuracy: 0.8441 - val_loss: 0.4055 - val_binary_accuracy: 0.8380\n",
      "Epoch 128/400\n",
      "2/2 [==============================] - 0s 33ms/step - loss: 0.3848 - binary_accuracy: 0.8483 - val_loss: 0.4055 - val_binary_accuracy: 0.8324\n",
      "Epoch 129/400\n",
      "2/2 [==============================] - 0s 33ms/step - loss: 0.3560 - binary_accuracy: 0.8455 - val_loss: 0.4048 - val_binary_accuracy: 0.8324\n",
      "Epoch 130/400\n",
      "2/2 [==============================] - 0s 35ms/step - loss: 0.3438 - binary_accuracy: 0.8610 - val_loss: 0.4025 - val_binary_accuracy: 0.8324\n",
      "Epoch 131/400\n",
      "2/2 [==============================] - 0s 36ms/step - loss: 0.3838 - binary_accuracy: 0.8497 - val_loss: 0.3999 - val_binary_accuracy: 0.8324\n",
      "Epoch 132/400\n",
      "2/2 [==============================] - 0s 38ms/step - loss: 0.3539 - binary_accuracy: 0.8511 - val_loss: 0.3973 - val_binary_accuracy: 0.8268\n",
      "Epoch 133/400\n",
      "2/2 [==============================] - 0s 37ms/step - loss: 0.3669 - binary_accuracy: 0.8483 - val_loss: 0.3957 - val_binary_accuracy: 0.8268\n",
      "Epoch 134/400\n",
      "2/2 [==============================] - 0s 33ms/step - loss: 0.3596 - binary_accuracy: 0.8553 - val_loss: 0.3947 - val_binary_accuracy: 0.8268\n",
      "Epoch 135/400\n",
      "2/2 [==============================] - 0s 33ms/step - loss: 0.3733 - binary_accuracy: 0.8525 - val_loss: 0.3945 - val_binary_accuracy: 0.8268\n",
      "Epoch 136/400\n",
      "2/2 [==============================] - 0s 36ms/step - loss: 0.3716 - binary_accuracy: 0.8441 - val_loss: 0.3949 - val_binary_accuracy: 0.8268\n",
      "Epoch 137/400\n",
      "2/2 [==============================] - 0s 35ms/step - loss: 0.3719 - binary_accuracy: 0.8357 - val_loss: 0.3943 - val_binary_accuracy: 0.8212\n",
      "Epoch 138/400\n",
      "2/2 [==============================] - 0s 32ms/step - loss: 0.3622 - binary_accuracy: 0.8567 - val_loss: 0.3942 - val_binary_accuracy: 0.8380\n",
      "Epoch 139/400\n",
      "2/2 [==============================] - 0s 32ms/step - loss: 0.3614 - binary_accuracy: 0.8511 - val_loss: 0.3938 - val_binary_accuracy: 0.8324\n",
      "Epoch 140/400\n",
      "2/2 [==============================] - 0s 52ms/step - loss: 0.3595 - binary_accuracy: 0.8483 - val_loss: 0.3936 - val_binary_accuracy: 0.8380\n",
      "Epoch 141/400\n",
      "2/2 [==============================] - 0s 31ms/step - loss: 0.3610 - binary_accuracy: 0.8525 - val_loss: 0.3936 - val_binary_accuracy: 0.8380\n",
      "Epoch 142/400\n",
      "2/2 [==============================] - 0s 32ms/step - loss: 0.3820 - binary_accuracy: 0.8315 - val_loss: 0.3937 - val_binary_accuracy: 0.8436\n",
      "Epoch 143/400\n",
      "2/2 [==============================] - 0s 47ms/step - loss: 0.3699 - binary_accuracy: 0.8399 - val_loss: 0.3943 - val_binary_accuracy: 0.8436\n",
      "Epoch 144/400\n",
      "2/2 [==============================] - 0s 33ms/step - loss: 0.3581 - binary_accuracy: 0.8413 - val_loss: 0.3942 - val_binary_accuracy: 0.8436\n",
      "Epoch 145/400\n",
      "2/2 [==============================] - 0s 29ms/step - loss: 0.3431 - binary_accuracy: 0.8553 - val_loss: 0.3935 - val_binary_accuracy: 0.8436\n",
      "Epoch 146/400\n",
      "2/2 [==============================] - 0s 32ms/step - loss: 0.3533 - binary_accuracy: 0.8553 - val_loss: 0.3923 - val_binary_accuracy: 0.8436\n",
      "Epoch 147/400\n",
      "2/2 [==============================] - 0s 37ms/step - loss: 0.3314 - binary_accuracy: 0.8638 - val_loss: 0.3909 - val_binary_accuracy: 0.8324\n",
      "Epoch 148/400\n",
      "2/2 [==============================] - 0s 35ms/step - loss: 0.3451 - binary_accuracy: 0.8539 - val_loss: 0.3895 - val_binary_accuracy: 0.8268\n",
      "Epoch 149/400\n",
      "2/2 [==============================] - 0s 32ms/step - loss: 0.3587 - binary_accuracy: 0.8497 - val_loss: 0.3890 - val_binary_accuracy: 0.8268\n",
      "Epoch 150/400\n",
      "2/2 [==============================] - 0s 32ms/step - loss: 0.3514 - binary_accuracy: 0.8581 - val_loss: 0.3890 - val_binary_accuracy: 0.8212\n",
      "Epoch 151/400\n",
      "2/2 [==============================] - 0s 30ms/step - loss: 0.3575 - binary_accuracy: 0.8483 - val_loss: 0.3890 - val_binary_accuracy: 0.8101\n",
      "Epoch 152/400\n",
      "2/2 [==============================] - 0s 28ms/step - loss: 0.3518 - binary_accuracy: 0.8455 - val_loss: 0.3887 - val_binary_accuracy: 0.8156\n",
      "Epoch 153/400\n",
      "2/2 [==============================] - 0s 32ms/step - loss: 0.3571 - binary_accuracy: 0.8483 - val_loss: 0.3889 - val_binary_accuracy: 0.8156\n",
      "Epoch 154/400\n",
      "2/2 [==============================] - 0s 34ms/step - loss: 0.3540 - binary_accuracy: 0.8427 - val_loss: 0.3892 - val_binary_accuracy: 0.8268\n",
      "Epoch 155/400\n",
      "2/2 [==============================] - 0s 34ms/step - loss: 0.3499 - binary_accuracy: 0.8581 - val_loss: 0.3899 - val_binary_accuracy: 0.8212\n",
      "Epoch 156/400\n",
      "2/2 [==============================] - 0s 32ms/step - loss: 0.3506 - binary_accuracy: 0.8567 - val_loss: 0.3908 - val_binary_accuracy: 0.8156\n",
      "Epoch 157/400\n",
      "2/2 [==============================] - 0s 35ms/step - loss: 0.3635 - binary_accuracy: 0.8483 - val_loss: 0.3903 - val_binary_accuracy: 0.8212\n",
      "Epoch 158/400\n",
      "2/2 [==============================] - 0s 33ms/step - loss: 0.3441 - binary_accuracy: 0.8610 - val_loss: 0.3899 - val_binary_accuracy: 0.8268\n",
      "Epoch 159/400\n",
      "2/2 [==============================] - 0s 33ms/step - loss: 0.3761 - binary_accuracy: 0.8483 - val_loss: 0.3910 - val_binary_accuracy: 0.8324\n",
      "Epoch 160/400\n",
      "2/2 [==============================] - 0s 31ms/step - loss: 0.3679 - binary_accuracy: 0.8539 - val_loss: 0.3927 - val_binary_accuracy: 0.8324\n",
      "Epoch 161/400\n",
      "2/2 [==============================] - 0s 38ms/step - loss: 0.3447 - binary_accuracy: 0.8567 - val_loss: 0.3945 - val_binary_accuracy: 0.8268\n",
      "Epoch 162/400\n",
      "2/2 [==============================] - 0s 32ms/step - loss: 0.3703 - binary_accuracy: 0.8301 - val_loss: 0.3965 - val_binary_accuracy: 0.8324\n",
      "Epoch 163/400\n",
      "2/2 [==============================] - 0s 34ms/step - loss: 0.3658 - binary_accuracy: 0.8371 - val_loss: 0.3987 - val_binary_accuracy: 0.8324\n",
      "Epoch 164/400\n",
      "2/2 [==============================] - 0s 47ms/step - loss: 0.3449 - binary_accuracy: 0.8610 - val_loss: 0.4009 - val_binary_accuracy: 0.8380\n",
      "Epoch 165/400\n",
      "2/2 [==============================] - 0s 32ms/step - loss: 0.3614 - binary_accuracy: 0.8567 - val_loss: 0.4020 - val_binary_accuracy: 0.8380\n",
      "Epoch 166/400\n",
      "2/2 [==============================] - 0s 32ms/step - loss: 0.3546 - binary_accuracy: 0.8483 - val_loss: 0.4010 - val_binary_accuracy: 0.8268\n",
      "Epoch 167/400\n",
      "2/2 [==============================] - 0s 40ms/step - loss: 0.3406 - binary_accuracy: 0.8624 - val_loss: 0.3988 - val_binary_accuracy: 0.8268\n",
      "Epoch 168/400\n",
      "2/2 [==============================] - 0s 31ms/step - loss: 0.3648 - binary_accuracy: 0.8539 - val_loss: 0.3965 - val_binary_accuracy: 0.8380\n",
      "Epoch 169/400\n",
      "2/2 [==============================] - 0s 32ms/step - loss: 0.3715 - binary_accuracy: 0.8427 - val_loss: 0.3937 - val_binary_accuracy: 0.8380\n",
      "Epoch 170/400\n",
      "2/2 [==============================] - 0s 32ms/step - loss: 0.3517 - binary_accuracy: 0.8666 - val_loss: 0.3905 - val_binary_accuracy: 0.8436\n",
      "Epoch 171/400\n",
      "2/2 [==============================] - 0s 34ms/step - loss: 0.3392 - binary_accuracy: 0.8469 - val_loss: 0.3883 - val_binary_accuracy: 0.8492\n",
      "Epoch 172/400\n",
      "2/2 [==============================] - 0s 34ms/step - loss: 0.3664 - binary_accuracy: 0.8553 - val_loss: 0.3883 - val_binary_accuracy: 0.8380\n",
      "Epoch 173/400\n",
      "2/2 [==============================] - 0s 49ms/step - loss: 0.3603 - binary_accuracy: 0.8441 - val_loss: 0.3899 - val_binary_accuracy: 0.8324\n",
      "Epoch 174/400\n",
      "2/2 [==============================] - 0s 33ms/step - loss: 0.3642 - binary_accuracy: 0.8315 - val_loss: 0.3918 - val_binary_accuracy: 0.8380\n",
      "Epoch 175/400\n",
      "2/2 [==============================] - 0s 33ms/step - loss: 0.3524 - binary_accuracy: 0.8525 - val_loss: 0.3940 - val_binary_accuracy: 0.8380\n",
      "Epoch 176/400\n",
      "2/2 [==============================] - 0s 35ms/step - loss: 0.3418 - binary_accuracy: 0.8567 - val_loss: 0.3964 - val_binary_accuracy: 0.8436\n",
      "Epoch 177/400\n",
      "2/2 [==============================] - 0s 31ms/step - loss: 0.3393 - binary_accuracy: 0.8567 - val_loss: 0.3976 - val_binary_accuracy: 0.8380\n",
      "Epoch 178/400\n",
      "2/2 [==============================] - 0s 33ms/step - loss: 0.3673 - binary_accuracy: 0.8483 - val_loss: 0.3977 - val_binary_accuracy: 0.8380\n",
      "Epoch 179/400\n",
      "2/2 [==============================] - 0s 34ms/step - loss: 0.3627 - binary_accuracy: 0.8483 - val_loss: 0.3970 - val_binary_accuracy: 0.8380\n",
      "Epoch 180/400\n",
      "2/2 [==============================] - 0s 41ms/step - loss: 0.3450 - binary_accuracy: 0.8596 - val_loss: 0.3965 - val_binary_accuracy: 0.8380\n",
      "Epoch 181/400\n",
      "2/2 [==============================] - 0s 31ms/step - loss: 0.3510 - binary_accuracy: 0.8624 - val_loss: 0.3964 - val_binary_accuracy: 0.8380\n",
      "Epoch 182/400\n",
      "2/2 [==============================] - 0s 32ms/step - loss: 0.3406 - binary_accuracy: 0.8708 - val_loss: 0.3974 - val_binary_accuracy: 0.8380\n",
      "Epoch 183/400\n",
      "2/2 [==============================] - 0s 34ms/step - loss: 0.3517 - binary_accuracy: 0.8441 - val_loss: 0.4010 - val_binary_accuracy: 0.8380\n",
      "Epoch 184/400\n",
      "2/2 [==============================] - 0s 33ms/step - loss: 0.3358 - binary_accuracy: 0.8694 - val_loss: 0.4042 - val_binary_accuracy: 0.8268\n",
      "Epoch 185/400\n",
      "2/2 [==============================] - 0s 52ms/step - loss: 0.3474 - binary_accuracy: 0.8581 - val_loss: 0.4060 - val_binary_accuracy: 0.8268\n",
      "Epoch 186/400\n",
      "2/2 [==============================] - 0s 32ms/step - loss: 0.3473 - binary_accuracy: 0.8483 - val_loss: 0.4067 - val_binary_accuracy: 0.8324\n",
      "Epoch 187/400\n",
      "2/2 [==============================] - 0s 31ms/step - loss: 0.3431 - binary_accuracy: 0.8469 - val_loss: 0.4053 - val_binary_accuracy: 0.8268\n",
      "Epoch 188/400\n",
      "2/2 [==============================] - 0s 32ms/step - loss: 0.3702 - binary_accuracy: 0.8581 - val_loss: 0.4035 - val_binary_accuracy: 0.8268\n",
      "Epoch 189/400\n",
      "2/2 [==============================] - 0s 30ms/step - loss: 0.3461 - binary_accuracy: 0.8497 - val_loss: 0.4011 - val_binary_accuracy: 0.8268\n",
      "Epoch 190/400\n",
      "2/2 [==============================] - 0s 35ms/step - loss: 0.3469 - binary_accuracy: 0.8553 - val_loss: 0.4004 - val_binary_accuracy: 0.8268\n",
      "Epoch 191/400\n",
      "2/2 [==============================] - 0s 32ms/step - loss: 0.3460 - binary_accuracy: 0.8596 - val_loss: 0.4010 - val_binary_accuracy: 0.8324\n",
      "Epoch 192/400\n",
      "2/2 [==============================] - 0s 35ms/step - loss: 0.3557 - binary_accuracy: 0.8455 - val_loss: 0.4028 - val_binary_accuracy: 0.8380\n",
      "Epoch 193/400\n",
      "2/2 [==============================] - 0s 32ms/step - loss: 0.3479 - binary_accuracy: 0.8497 - val_loss: 0.4042 - val_binary_accuracy: 0.8380\n",
      "Epoch 194/400\n",
      "2/2 [==============================] - 0s 31ms/step - loss: 0.3426 - binary_accuracy: 0.8680 - val_loss: 0.4047 - val_binary_accuracy: 0.8380\n",
      "Epoch 195/400\n",
      "2/2 [==============================] - 0s 31ms/step - loss: 0.3490 - binary_accuracy: 0.8525 - val_loss: 0.4061 - val_binary_accuracy: 0.8324\n",
      "Epoch 196/400\n",
      "2/2 [==============================] - 0s 43ms/step - loss: 0.3311 - binary_accuracy: 0.8680 - val_loss: 0.4076 - val_binary_accuracy: 0.8324\n"
     ]
    },
    {
     "data": {
      "text/plain": [
       "<Axes: title={'center': 'Accuracy'}>"
      ]
     },
     "execution_count": 9,
     "metadata": {},
     "output_type": "execute_result"
    },
    {
     "data": {
      "image/png": "[encoded data removed]",
      "text/plain": [
       "<Figure size 640x480 with 1 Axes>"
      ]
     },
     "metadata": {},
     "output_type": "display_data"
    },
    {
     "data": {
      "image/png": "[encoded data removed]",
      "text/plain": [
       "<Figure size 640x480 with 1 Axes>"
      ]
     },
     "metadata": {},
     "output_type": "display_data"
    }
   ],
   "source": [
    "early_stopping = keras.callbacks.EarlyStopping(\n",
    "    patience=25,\n",
    "    min_delta=0.001,\n",
    "    restore_best_weights=True,\n",
    ")\n",
    "\n",
    "history = model.fit(\n",
    "    X_train, y_train,\n",
    "    validation_data=(X_valid, y_valid),\n",
    "    batch_size=512,\n",
    "    epochs=400,\n",
    "    callbacks=[early_stopping],\n",
    ")\n",
    "\n",
    "\n",
    "# Plotting the learning process\n",
    "history_df = pd.DataFrame(history.history)\n",
    "history_df.loc[:, ['loss', 'val_loss']].plot(title=\"Cross-entropy\")\n",
    "history_df.loc[:, ['binary_accuracy', 'val_binary_accuracy']].plot(title=\"Accuracy\")"
   ]
  },
  {
   "cell_type": "markdown",
   "id": "0da4e17f",
   "metadata": {
    "papermill": {
     "duration": 0.039312,
     "end_time": "2024-02-26T00:15:40.058854",
     "exception": false,
     "start_time": "2024-02-26T00:15:40.019542",
     "status": "completed"
    },
    "tags": []
   },
   "source": [
    "### Applying the model to the test data"
   ]
  },
  {
   "cell_type": "code",
   "execution_count": 10,
   "id": "a72ce1a9",
   "metadata": {
    "execution": {
     "iopub.execute_input": "2024-02-26T00:15:40.140322Z",
     "iopub.status.busy": "2024-02-26T00:15:40.139410Z",
     "iopub.status.idle": "2024-02-26T00:15:40.369775Z",
     "shell.execute_reply": "2024-02-26T00:15:40.369058Z"
    },
    "papermill": {
     "duration": 0.273695,
     "end_time": "2024-02-26T00:15:40.372000",
     "exception": false,
     "start_time": "2024-02-26T00:15:40.098305",
     "status": "completed"
    },
    "tags": []
   },
   "outputs": [
    {
     "name": "stdout",
     "output_type": "stream",
     "text": [
      "14/14 [==============================] - 0s 2ms/step\n"
     ]
    }
   ],
   "source": [
    "my_pipeline = Pipeline(steps=[('preprocessor', preprocessor),\n",
    "                              ('model', model),\n",
    "                              ])\n",
    "\n",
    "predictions = my_pipeline.predict(data_test)\n",
    "binary_predictions = (predictions >= 0.5).astype(int)\n",
    "output = pd.DataFrame({'PassengerId': data_test.index,\n",
    "                       'Survived': binary_predictions.reshape(-1,)},)\n",
    "output.to_csv('submission.csv', index=False,encoding='utf-8')\n"
   ]
  },
  {
   "cell_type": "code",
   "execution_count": 11,
   "id": "e6ddbd3c",
   "metadata": {
    "execution": {
     "iopub.execute_input": "2024-02-26T00:15:40.455528Z",
     "iopub.status.busy": "2024-02-26T00:15:40.454477Z",
     "iopub.status.idle": "2024-02-26T00:15:40.462322Z",
     "shell.execute_reply": "2024-02-26T00:15:40.461454Z"
    },
    "papermill": {
     "duration": 0.051343,
     "end_time": "2024-02-26T00:15:40.463883",
     "exception": false,
     "start_time": "2024-02-26T00:15:40.412540",
     "status": "completed"
    },
    "tags": []
   },
   "outputs": [
    {
     "data": {
      "text/html": [
       "<div>\n",
       "<style scoped>\n",
       "    .dataframe tbody tr th:only-of-type {\n",
       "        vertical-align: middle;\n",
       "    }\n",
       "\n",
       "    .dataframe tbody tr th {\n",
       "        vertical-align: top;\n",
       "    }\n",
       "\n",
       "    .dataframe thead th {\n",
       "        text-align: right;\n",
       "    }\n",
       "</style>\n",
       "<table border=\"1\" class=\"dataframe\">\n",
       "  <thead>\n",
       "    <tr style=\"text-align: right;\">\n",
       "      <th></th>\n",
       "      <th>PassengerId</th>\n",
       "      <th>Survived</th>\n",
       "    </tr>\n",
       "  </thead>\n",
       "  <tbody>\n",
       "    <tr>\n",
       "      <th>0</th>\n",
       "      <td>892</td>\n",
       "      <td>0</td>\n",
       "    </tr>\n",
       "    <tr>\n",
       "      <th>1</th>\n",
       "      <td>893</td>\n",
       "      <td>0</td>\n",
       "    </tr>\n",
       "    <tr>\n",
       "      <th>2</th>\n",
       "      <td>894</td>\n",
       "      <td>0</td>\n",
       "    </tr>\n",
       "    <tr>\n",
       "      <th>3</th>\n",
       "      <td>895</td>\n",
       "      <td>0</td>\n",
       "    </tr>\n",
       "    <tr>\n",
       "      <th>4</th>\n",
       "      <td>896</td>\n",
       "      <td>1</td>\n",
       "    </tr>\n",
       "  </tbody>\n",
       "</table>\n",
       "</div>"
      ],
      "text/plain": [
       "   PassengerId  Survived\n",
       "0          892         0\n",
       "1          893         0\n",
       "2          894         0\n",
       "3          895         0\n",
       "4          896         1"
      ]
     },
     "execution_count": 11,
     "metadata": {},
     "output_type": "execute_result"
    }
   ],
   "source": [
    "output.head()"
   ]
  },
  {
   "cell_type": "code",
   "execution_count": 12,
   "id": "f8e5a27e",
   "metadata": {
    "execution": {
     "iopub.execute_input": "2024-02-26T00:15:40.545726Z",
     "iopub.status.busy": "2024-02-26T00:15:40.545191Z",
     "iopub.status.idle": "2024-02-26T00:15:40.554389Z",
     "shell.execute_reply": "2024-02-26T00:15:40.553604Z"
    },
    "papermill": {
     "duration": 0.051582,
     "end_time": "2024-02-26T00:15:40.555934",
     "exception": false,
     "start_time": "2024-02-26T00:15:40.504352",
     "status": "completed"
    },
    "tags": []
   },
   "outputs": [
    {
     "data": {
      "text/plain": [
       "Survived\n",
       "0    265\n",
       "1    153\n",
       "Name: count, dtype: int64"
      ]
     },
     "execution_count": 12,
     "metadata": {},
     "output_type": "execute_result"
    }
   ],
   "source": [
    "output.Survived.value_counts()"
   ]
  },
  {
   "cell_type": "markdown",
   "id": "1d03acf6",
   "metadata": {
    "papermill": {
     "duration": 0.03875,
     "end_time": "2024-02-26T00:15:40.634628",
     "exception": false,
     "start_time": "2024-02-26T00:15:40.595878",
     "status": "completed"
    },
    "tags": []
   },
   "source": [
    "### To-do list:\n",
    "1. Correct input layer\n",
    "2. Impute with indication of missing data"
   ]
  }
 ],
 "metadata": {
  "kaggle": {
   "accelerator": "none",
   "dataSources": [
    {
     "databundleVersionId": 26502,
     "sourceId": 3136,
     "sourceType": "competition"
    }
   ],
   "dockerImageVersionId": 30646,
   "isGpuEnabled": false,
   "isInternetEnabled": true,
   "language": "python",
   "sourceType": "notebook"
  },
  "kernelspec": {
   "display_name": "Python 3",
   "language": "python",
   "name": "python3"
  },
  "language_info": {
   "codemirror_mode": {
    "name": "ipython",
    "version": 3
   },
   "file_extension": ".py",
   "mimetype": "text/x-python",
   "name": "python",
   "nbconvert_exporter": "python",
   "pygments_lexer": "ipython3",
   "version": "3.10.13"
  },
  "papermill": {
   "default_parameters": {},
   "duration": 43.191837,
   "end_time": "2024-02-26T00:15:43.056805",
   "environment_variables": {},
   "exception": null,
   "input_path": "__notebook__.ipynb",
   "output_path": "__notebook__.ipynb",
   "parameters": {},
   "start_time": "2024-02-26T00:14:59.864968",
   "version": "2.5.0"
  }
 },
 "nbformat": 4,
 "nbformat_minor": 5
}
